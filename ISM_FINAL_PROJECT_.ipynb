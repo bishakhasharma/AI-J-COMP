{
  "nbformat": 4,
  "nbformat_minor": 0,
  "metadata": {
    "colab": {
      "name": "ISM FINAL PROJECT .ipynb",
      "provenance": [],
      "collapsed_sections": []
    },
    "kernelspec": {
      "name": "python3",
      "display_name": "Python 3"
    },
    "language_info": {
      "name": "python"
    }
  },
  "cells": [
    {
      "cell_type": "code",
      "metadata": {
        "id": "OxLU2f-RqdFB",
        "colab": {
          "base_uri": "https://localhost:8080/",
          "height": 456
        },
        "outputId": "c84e8894-eed9-49b0-8927-9dd3f811c8e1"
      },
      "source": [
        "import warnings\n",
        "warnings.filterwarnings(\"ignore\")\n",
        "\n",
        "import pandas as pd\n",
        "import numpy as np\n",
        "import seaborn as sns\n",
        "import matplotlib.pyplot as plt\n",
        "from google.colab import files\n",
        "# uploaded=files.upload()\n",
        "import io\n",
        "data=pd.read_csv('dataset.csv')\n",
        "\n",
        "\n",
        "data = data.sample(frac=1).reset_index(drop=True)\n",
        "data.head(10)"
      ],
      "execution_count": null,
      "outputs": [
        {
          "output_type": "execute_result",
          "data": {
            "text/plain": [
              "      id  having_IP_Address  URL_Length  Shortining_Service  having_At_Symbol  \\\n",
              "0   3572                  1          -1                   1                 1   \n",
              "1  10345                 -1          -1                  -1                -1   \n",
              "2   7033                 -1          -1                   1                 1   \n",
              "3   5752                  1          -1                   1                -1   \n",
              "4   4943                  1          -1                   1                -1   \n",
              "5   2211                  1          -1                   1                 1   \n",
              "6   3519                  1          -1                   1                 1   \n",
              "7   9629                  1          -1                   1                 1   \n",
              "8   1438                  1          -1                   1                 1   \n",
              "9   4242                  1          -1                   1                 1   \n",
              "\n",
              "   double_slash_redirecting  Prefix_Suffix  having_Sub_Domain  SSLfinal_State  \\\n",
              "0                         1             -1                  0               0   \n",
              "1                        -1             -1                 -1               0   \n",
              "2                         1             -1                  0               1   \n",
              "3                         1             -1                 -1              -1   \n",
              "4                         1             -1                  0               0   \n",
              "5                         1             -1                  1              -1   \n",
              "6                         1             -1                 -1              -1   \n",
              "7                         1             -1                  1               1   \n",
              "8                         1             -1                 -1              -1   \n",
              "9                         1             -1                  0               1   \n",
              "\n",
              "   Domain_registeration_length  ...  popUpWidnow  Iframe  age_of_domain  \\\n",
              "0                            1  ...            1       1              1   \n",
              "1                           -1  ...           -1       1              1   \n",
              "2                           -1  ...            1       1             -1   \n",
              "3                           -1  ...            1       1             -1   \n",
              "4                           -1  ...            1       1              1   \n",
              "5                            1  ...            1       1             -1   \n",
              "6                            1  ...            1       1              1   \n",
              "7                           -1  ...            1       1              1   \n",
              "8                            1  ...            1       1             -1   \n",
              "9                           -1  ...            1       1             -1   \n",
              "\n",
              "   DNSRecord  web_traffic  Page_Rank  Google_Index  Links_pointing_to_page  \\\n",
              "0         -1           -1         -1             1                       1   \n",
              "1         -1            0         -1             1                       1   \n",
              "2          1            0          1             1                       0   \n",
              "3          1            0          1             1                       0   \n",
              "4          1           -1         -1             1                       0   \n",
              "5          1            1         -1             1                       0   \n",
              "6         -1            1         -1             1                       1   \n",
              "7          1           -1         -1             1                       0   \n",
              "8         -1           -1         -1             1                       1   \n",
              "9          1            1         -1             1                       0   \n",
              "\n",
              "   Statistical_report  Result  \n",
              "0                   1      -1  \n",
              "1                   1      -1  \n",
              "2                   1      -1  \n",
              "3                   1      -1  \n",
              "4                   1      -1  \n",
              "5                   1      -1  \n",
              "6                   1      -1  \n",
              "7                   1       1  \n",
              "8                  -1      -1  \n",
              "9                   1       1  \n",
              "\n",
              "[10 rows x 32 columns]"
            ],
            "text/html": [
              "\n",
              "  <div id=\"df-97ea4bbd-ae87-4e4c-a27b-1d107456f2db\">\n",
              "    <div class=\"colab-df-container\">\n",
              "      <div>\n",
              "<style scoped>\n",
              "    .dataframe tbody tr th:only-of-type {\n",
              "        vertical-align: middle;\n",
              "    }\n",
              "\n",
              "    .dataframe tbody tr th {\n",
              "        vertical-align: top;\n",
              "    }\n",
              "\n",
              "    .dataframe thead th {\n",
              "        text-align: right;\n",
              "    }\n",
              "</style>\n",
              "<table border=\"1\" class=\"dataframe\">\n",
              "  <thead>\n",
              "    <tr style=\"text-align: right;\">\n",
              "      <th></th>\n",
              "      <th>id</th>\n",
              "      <th>having_IP_Address</th>\n",
              "      <th>URL_Length</th>\n",
              "      <th>Shortining_Service</th>\n",
              "      <th>having_At_Symbol</th>\n",
              "      <th>double_slash_redirecting</th>\n",
              "      <th>Prefix_Suffix</th>\n",
              "      <th>having_Sub_Domain</th>\n",
              "      <th>SSLfinal_State</th>\n",
              "      <th>Domain_registeration_length</th>\n",
              "      <th>...</th>\n",
              "      <th>popUpWidnow</th>\n",
              "      <th>Iframe</th>\n",
              "      <th>age_of_domain</th>\n",
              "      <th>DNSRecord</th>\n",
              "      <th>web_traffic</th>\n",
              "      <th>Page_Rank</th>\n",
              "      <th>Google_Index</th>\n",
              "      <th>Links_pointing_to_page</th>\n",
              "      <th>Statistical_report</th>\n",
              "      <th>Result</th>\n",
              "    </tr>\n",
              "  </thead>\n",
              "  <tbody>\n",
              "    <tr>\n",
              "      <th>0</th>\n",
              "      <td>3572</td>\n",
              "      <td>1</td>\n",
              "      <td>-1</td>\n",
              "      <td>1</td>\n",
              "      <td>1</td>\n",
              "      <td>1</td>\n",
              "      <td>-1</td>\n",
              "      <td>0</td>\n",
              "      <td>0</td>\n",
              "      <td>1</td>\n",
              "      <td>...</td>\n",
              "      <td>1</td>\n",
              "      <td>1</td>\n",
              "      <td>1</td>\n",
              "      <td>-1</td>\n",
              "      <td>-1</td>\n",
              "      <td>-1</td>\n",
              "      <td>1</td>\n",
              "      <td>1</td>\n",
              "      <td>1</td>\n",
              "      <td>-1</td>\n",
              "    </tr>\n",
              "    <tr>\n",
              "      <th>1</th>\n",
              "      <td>10345</td>\n",
              "      <td>-1</td>\n",
              "      <td>-1</td>\n",
              "      <td>-1</td>\n",
              "      <td>-1</td>\n",
              "      <td>-1</td>\n",
              "      <td>-1</td>\n",
              "      <td>-1</td>\n",
              "      <td>0</td>\n",
              "      <td>-1</td>\n",
              "      <td>...</td>\n",
              "      <td>-1</td>\n",
              "      <td>1</td>\n",
              "      <td>1</td>\n",
              "      <td>-1</td>\n",
              "      <td>0</td>\n",
              "      <td>-1</td>\n",
              "      <td>1</td>\n",
              "      <td>1</td>\n",
              "      <td>1</td>\n",
              "      <td>-1</td>\n",
              "    </tr>\n",
              "    <tr>\n",
              "      <th>2</th>\n",
              "      <td>7033</td>\n",
              "      <td>-1</td>\n",
              "      <td>-1</td>\n",
              "      <td>1</td>\n",
              "      <td>1</td>\n",
              "      <td>1</td>\n",
              "      <td>-1</td>\n",
              "      <td>0</td>\n",
              "      <td>1</td>\n",
              "      <td>-1</td>\n",
              "      <td>...</td>\n",
              "      <td>1</td>\n",
              "      <td>1</td>\n",
              "      <td>-1</td>\n",
              "      <td>1</td>\n",
              "      <td>0</td>\n",
              "      <td>1</td>\n",
              "      <td>1</td>\n",
              "      <td>0</td>\n",
              "      <td>1</td>\n",
              "      <td>-1</td>\n",
              "    </tr>\n",
              "    <tr>\n",
              "      <th>3</th>\n",
              "      <td>5752</td>\n",
              "      <td>1</td>\n",
              "      <td>-1</td>\n",
              "      <td>1</td>\n",
              "      <td>-1</td>\n",
              "      <td>1</td>\n",
              "      <td>-1</td>\n",
              "      <td>-1</td>\n",
              "      <td>-1</td>\n",
              "      <td>-1</td>\n",
              "      <td>...</td>\n",
              "      <td>1</td>\n",
              "      <td>1</td>\n",
              "      <td>-1</td>\n",
              "      <td>1</td>\n",
              "      <td>0</td>\n",
              "      <td>1</td>\n",
              "      <td>1</td>\n",
              "      <td>0</td>\n",
              "      <td>1</td>\n",
              "      <td>-1</td>\n",
              "    </tr>\n",
              "    <tr>\n",
              "      <th>4</th>\n",
              "      <td>4943</td>\n",
              "      <td>1</td>\n",
              "      <td>-1</td>\n",
              "      <td>1</td>\n",
              "      <td>-1</td>\n",
              "      <td>1</td>\n",
              "      <td>-1</td>\n",
              "      <td>0</td>\n",
              "      <td>0</td>\n",
              "      <td>-1</td>\n",
              "      <td>...</td>\n",
              "      <td>1</td>\n",
              "      <td>1</td>\n",
              "      <td>1</td>\n",
              "      <td>1</td>\n",
              "      <td>-1</td>\n",
              "      <td>-1</td>\n",
              "      <td>1</td>\n",
              "      <td>0</td>\n",
              "      <td>1</td>\n",
              "      <td>-1</td>\n",
              "    </tr>\n",
              "    <tr>\n",
              "      <th>5</th>\n",
              "      <td>2211</td>\n",
              "      <td>1</td>\n",
              "      <td>-1</td>\n",
              "      <td>1</td>\n",
              "      <td>1</td>\n",
              "      <td>1</td>\n",
              "      <td>-1</td>\n",
              "      <td>1</td>\n",
              "      <td>-1</td>\n",
              "      <td>1</td>\n",
              "      <td>...</td>\n",
              "      <td>1</td>\n",
              "      <td>1</td>\n",
              "      <td>-1</td>\n",
              "      <td>1</td>\n",
              "      <td>1</td>\n",
              "      <td>-1</td>\n",
              "      <td>1</td>\n",
              "      <td>0</td>\n",
              "      <td>1</td>\n",
              "      <td>-1</td>\n",
              "    </tr>\n",
              "    <tr>\n",
              "      <th>6</th>\n",
              "      <td>3519</td>\n",
              "      <td>1</td>\n",
              "      <td>-1</td>\n",
              "      <td>1</td>\n",
              "      <td>1</td>\n",
              "      <td>1</td>\n",
              "      <td>-1</td>\n",
              "      <td>-1</td>\n",
              "      <td>-1</td>\n",
              "      <td>1</td>\n",
              "      <td>...</td>\n",
              "      <td>1</td>\n",
              "      <td>1</td>\n",
              "      <td>1</td>\n",
              "      <td>-1</td>\n",
              "      <td>1</td>\n",
              "      <td>-1</td>\n",
              "      <td>1</td>\n",
              "      <td>1</td>\n",
              "      <td>1</td>\n",
              "      <td>-1</td>\n",
              "    </tr>\n",
              "    <tr>\n",
              "      <th>7</th>\n",
              "      <td>9629</td>\n",
              "      <td>1</td>\n",
              "      <td>-1</td>\n",
              "      <td>1</td>\n",
              "      <td>1</td>\n",
              "      <td>1</td>\n",
              "      <td>-1</td>\n",
              "      <td>1</td>\n",
              "      <td>1</td>\n",
              "      <td>-1</td>\n",
              "      <td>...</td>\n",
              "      <td>1</td>\n",
              "      <td>1</td>\n",
              "      <td>1</td>\n",
              "      <td>1</td>\n",
              "      <td>-1</td>\n",
              "      <td>-1</td>\n",
              "      <td>1</td>\n",
              "      <td>0</td>\n",
              "      <td>1</td>\n",
              "      <td>1</td>\n",
              "    </tr>\n",
              "    <tr>\n",
              "      <th>8</th>\n",
              "      <td>1438</td>\n",
              "      <td>1</td>\n",
              "      <td>-1</td>\n",
              "      <td>1</td>\n",
              "      <td>1</td>\n",
              "      <td>1</td>\n",
              "      <td>-1</td>\n",
              "      <td>-1</td>\n",
              "      <td>-1</td>\n",
              "      <td>1</td>\n",
              "      <td>...</td>\n",
              "      <td>1</td>\n",
              "      <td>1</td>\n",
              "      <td>-1</td>\n",
              "      <td>-1</td>\n",
              "      <td>-1</td>\n",
              "      <td>-1</td>\n",
              "      <td>1</td>\n",
              "      <td>1</td>\n",
              "      <td>-1</td>\n",
              "      <td>-1</td>\n",
              "    </tr>\n",
              "    <tr>\n",
              "      <th>9</th>\n",
              "      <td>4242</td>\n",
              "      <td>1</td>\n",
              "      <td>-1</td>\n",
              "      <td>1</td>\n",
              "      <td>1</td>\n",
              "      <td>1</td>\n",
              "      <td>-1</td>\n",
              "      <td>0</td>\n",
              "      <td>1</td>\n",
              "      <td>-1</td>\n",
              "      <td>...</td>\n",
              "      <td>1</td>\n",
              "      <td>1</td>\n",
              "      <td>-1</td>\n",
              "      <td>1</td>\n",
              "      <td>1</td>\n",
              "      <td>-1</td>\n",
              "      <td>1</td>\n",
              "      <td>0</td>\n",
              "      <td>1</td>\n",
              "      <td>1</td>\n",
              "    </tr>\n",
              "  </tbody>\n",
              "</table>\n",
              "<p>10 rows × 32 columns</p>\n",
              "</div>\n",
              "      <button class=\"colab-df-convert\" onclick=\"convertToInteractive('df-97ea4bbd-ae87-4e4c-a27b-1d107456f2db')\"\n",
              "              title=\"Convert this dataframe to an interactive table.\"\n",
              "              style=\"display:none;\">\n",
              "        \n",
              "  <svg xmlns=\"http://www.w3.org/2000/svg\" height=\"24px\"viewBox=\"0 0 24 24\"\n",
              "       width=\"24px\">\n",
              "    <path d=\"M0 0h24v24H0V0z\" fill=\"none\"/>\n",
              "    <path d=\"M18.56 5.44l.94 2.06.94-2.06 2.06-.94-2.06-.94-.94-2.06-.94 2.06-2.06.94zm-11 1L8.5 8.5l.94-2.06 2.06-.94-2.06-.94L8.5 2.5l-.94 2.06-2.06.94zm10 10l.94 2.06.94-2.06 2.06-.94-2.06-.94-.94-2.06-.94 2.06-2.06.94z\"/><path d=\"M17.41 7.96l-1.37-1.37c-.4-.4-.92-.59-1.43-.59-.52 0-1.04.2-1.43.59L10.3 9.45l-7.72 7.72c-.78.78-.78 2.05 0 2.83L4 21.41c.39.39.9.59 1.41.59.51 0 1.02-.2 1.41-.59l7.78-7.78 2.81-2.81c.8-.78.8-2.07 0-2.86zM5.41 20L4 18.59l7.72-7.72 1.47 1.35L5.41 20z\"/>\n",
              "  </svg>\n",
              "      </button>\n",
              "      \n",
              "  <style>\n",
              "    .colab-df-container {\n",
              "      display:flex;\n",
              "      flex-wrap:wrap;\n",
              "      gap: 12px;\n",
              "    }\n",
              "\n",
              "    .colab-df-convert {\n",
              "      background-color: #E8F0FE;\n",
              "      border: none;\n",
              "      border-radius: 50%;\n",
              "      cursor: pointer;\n",
              "      display: none;\n",
              "      fill: #1967D2;\n",
              "      height: 32px;\n",
              "      padding: 0 0 0 0;\n",
              "      width: 32px;\n",
              "    }\n",
              "\n",
              "    .colab-df-convert:hover {\n",
              "      background-color: #E2EBFA;\n",
              "      box-shadow: 0px 1px 2px rgba(60, 64, 67, 0.3), 0px 1px 3px 1px rgba(60, 64, 67, 0.15);\n",
              "      fill: #174EA6;\n",
              "    }\n",
              "\n",
              "    [theme=dark] .colab-df-convert {\n",
              "      background-color: #3B4455;\n",
              "      fill: #D2E3FC;\n",
              "    }\n",
              "\n",
              "    [theme=dark] .colab-df-convert:hover {\n",
              "      background-color: #434B5C;\n",
              "      box-shadow: 0px 1px 3px 1px rgba(0, 0, 0, 0.15);\n",
              "      filter: drop-shadow(0px 1px 2px rgba(0, 0, 0, 0.3));\n",
              "      fill: #FFFFFF;\n",
              "    }\n",
              "  </style>\n",
              "\n",
              "      <script>\n",
              "        const buttonEl =\n",
              "          document.querySelector('#df-97ea4bbd-ae87-4e4c-a27b-1d107456f2db button.colab-df-convert');\n",
              "        buttonEl.style.display =\n",
              "          google.colab.kernel.accessAllowed ? 'block' : 'none';\n",
              "\n",
              "        async function convertToInteractive(key) {\n",
              "          const element = document.querySelector('#df-97ea4bbd-ae87-4e4c-a27b-1d107456f2db');\n",
              "          const dataTable =\n",
              "            await google.colab.kernel.invokeFunction('convertToInteractive',\n",
              "                                                     [key], {});\n",
              "          if (!dataTable) return;\n",
              "\n",
              "          const docLinkHtml = 'Like what you see? Visit the ' +\n",
              "            '<a target=\"_blank\" href=https://colab.research.google.com/notebooks/data_table.ipynb>data table notebook</a>'\n",
              "            + ' to learn more about interactive tables.';\n",
              "          element.innerHTML = '';\n",
              "          dataTable['output_type'] = 'display_data';\n",
              "          await google.colab.output.renderOutput(dataTable, element);\n",
              "          const docLink = document.createElement('div');\n",
              "          docLink.innerHTML = docLinkHtml;\n",
              "          element.appendChild(docLink);\n",
              "        }\n",
              "      </script>\n",
              "    </div>\n",
              "  </div>\n",
              "  "
            ]
          },
          "metadata": {},
          "execution_count": 2
        }
      ]
    },
    {
      "cell_type": "markdown",
      "source": [
        "# New Section"
      ],
      "metadata": {
        "id": "gvEtyezj15IS"
      }
    },
    {
      "cell_type": "code",
      "metadata": {
        "colab": {
          "base_uri": "https://localhost:8080/",
          "height": 1000
        },
        "id": "SlTZpHF2qp-q",
        "outputId": "dec07502-9d71-4b7a-c972-be3b690b618b"
      },
      "source": [
        "data.head(10).T\n"
      ],
      "execution_count": null,
      "outputs": [
        {
          "output_type": "execute_result",
          "data": {
            "text/plain": [
              "                                 0      1    2     3     4     5    6    7  \\\n",
              "id                           10955  10671  728  9191  1969  6039  673  752   \n",
              "having_IP_Address               -1      1    1     1     1    -1    1    1   \n",
              "URL_Length                      -1     -1   -1    -1    -1     1   -1   -1   \n",
              "Shortining_Service               1      1    1     1     1     1    1    1   \n",
              "having_At_Symbol                 1      1    1     1     1     1    1    1   \n",
              "double_slash_redirecting         1      1    1     1     1     1    1    1   \n",
              "Prefix_Suffix                   -1     -1   -1    -1    -1    -1    1   -1   \n",
              "having_Sub_Domain                0     -1    1     1    -1     1    1   -1   \n",
              "SSLfinal_State                  -1      0    1     1    -1     1    1   -1   \n",
              "Domain_registeration_length     -1      1   -1    -1    -1     1   -1   -1   \n",
              "Favicon                          1      1    1     1     1     1    1    1   \n",
              "port                             1      1    1     1     1     1    1    1   \n",
              "HTTPS_token                      1      1    1     1     1     1    1    1   \n",
              "Request_URL                      1     -1    1    -1     1     1    1   -1   \n",
              "URL_of_Anchor                    0     -1    0     1     0     0    0    0   \n",
              "Links_in_tags                   -1      0    0     1    -1     0    1   -1   \n",
              "SFH                             -1     -1   -1    -1    -1    -1   -1   -1   \n",
              "Submitting_to_email              1      1    1     1     1     1    1    1   \n",
              "Abnormal_URL                     1      1    1     1     1     1    1    1   \n",
              "Redirect                         0      0    0     0     0     0    0    0   \n",
              "on_mouseover                     1      1    1     1     1     1    1    1   \n",
              "RightClick                       1      1    1     1     1     1    1    1   \n",
              "popUpWidnow                      1      1    1     1     1     1    1    1   \n",
              "Iframe                           1      1    1     1     1     1    1    1   \n",
              "age_of_domain                    1      1    1     1    -1     1    1    1   \n",
              "DNSRecord                        1      1    1     1    -1     1   -1    1   \n",
              "web_traffic                      1      0    1    -1    -1     0   -1   -1   \n",
              "Page_Rank                       -1     -1    1    -1     1    -1   -1    1   \n",
              "Google_Index                     1     -1   -1     1     1     1    1    1   \n",
              "Links_pointing_to_page           0      0    0     0     1     1    1    0   \n",
              "Statistical_report               1      1    1     1     1     1    1    1   \n",
              "Result                          -1     -1    1     1    -1     1    1   -1   \n",
              "\n",
              "                                 8      9  \n",
              "id                           11008  10972  \n",
              "having_IP_Address                1      1  \n",
              "URL_Length                      -1     -1  \n",
              "Shortining_Service               1      1  \n",
              "having_At_Symbol                 1      1  \n",
              "double_slash_redirecting         1      1  \n",
              "Prefix_Suffix                   -1     -1  \n",
              "having_Sub_Domain                1      1  \n",
              "SSLfinal_State                   1      1  \n",
              "Domain_registeration_length     -1     -1  \n",
              "Favicon                          1      1  \n",
              "port                             1      1  \n",
              "HTTPS_token                      1      1  \n",
              "Request_URL                      1      1  \n",
              "URL_of_Anchor                    1      0  \n",
              "Links_in_tags                    0     -1  \n",
              "SFH                             -1      0  \n",
              "Submitting_to_email              1      1  \n",
              "Abnormal_URL                     1      1  \n",
              "Redirect                         0      0  \n",
              "on_mouseover                     1      1  \n",
              "RightClick                       1      1  \n",
              "popUpWidnow                      1      1  \n",
              "Iframe                           1      1  \n",
              "age_of_domain                    1      1  \n",
              "DNSRecord                        1      1  \n",
              "web_traffic                      1     -1  \n",
              "Page_Rank                       -1     -1  \n",
              "Google_Index                     1      1  \n",
              "Links_pointing_to_page          -1      0  \n",
              "Statistical_report               1      1  \n",
              "Result                           1      1  "
            ],
            "text/html": [
              "\n",
              "  <div id=\"df-b5bba783-b0f0-491c-8acb-02c05da39837\">\n",
              "    <div class=\"colab-df-container\">\n",
              "      <div>\n",
              "<style scoped>\n",
              "    .dataframe tbody tr th:only-of-type {\n",
              "        vertical-align: middle;\n",
              "    }\n",
              "\n",
              "    .dataframe tbody tr th {\n",
              "        vertical-align: top;\n",
              "    }\n",
              "\n",
              "    .dataframe thead th {\n",
              "        text-align: right;\n",
              "    }\n",
              "</style>\n",
              "<table border=\"1\" class=\"dataframe\">\n",
              "  <thead>\n",
              "    <tr style=\"text-align: right;\">\n",
              "      <th></th>\n",
              "      <th>0</th>\n",
              "      <th>1</th>\n",
              "      <th>2</th>\n",
              "      <th>3</th>\n",
              "      <th>4</th>\n",
              "      <th>5</th>\n",
              "      <th>6</th>\n",
              "      <th>7</th>\n",
              "      <th>8</th>\n",
              "      <th>9</th>\n",
              "    </tr>\n",
              "  </thead>\n",
              "  <tbody>\n",
              "    <tr>\n",
              "      <th>id</th>\n",
              "      <td>10955</td>\n",
              "      <td>10671</td>\n",
              "      <td>728</td>\n",
              "      <td>9191</td>\n",
              "      <td>1969</td>\n",
              "      <td>6039</td>\n",
              "      <td>673</td>\n",
              "      <td>752</td>\n",
              "      <td>11008</td>\n",
              "      <td>10972</td>\n",
              "    </tr>\n",
              "    <tr>\n",
              "      <th>having_IP_Address</th>\n",
              "      <td>-1</td>\n",
              "      <td>1</td>\n",
              "      <td>1</td>\n",
              "      <td>1</td>\n",
              "      <td>1</td>\n",
              "      <td>-1</td>\n",
              "      <td>1</td>\n",
              "      <td>1</td>\n",
              "      <td>1</td>\n",
              "      <td>1</td>\n",
              "    </tr>\n",
              "    <tr>\n",
              "      <th>URL_Length</th>\n",
              "      <td>-1</td>\n",
              "      <td>-1</td>\n",
              "      <td>-1</td>\n",
              "      <td>-1</td>\n",
              "      <td>-1</td>\n",
              "      <td>1</td>\n",
              "      <td>-1</td>\n",
              "      <td>-1</td>\n",
              "      <td>-1</td>\n",
              "      <td>-1</td>\n",
              "    </tr>\n",
              "    <tr>\n",
              "      <th>Shortining_Service</th>\n",
              "      <td>1</td>\n",
              "      <td>1</td>\n",
              "      <td>1</td>\n",
              "      <td>1</td>\n",
              "      <td>1</td>\n",
              "      <td>1</td>\n",
              "      <td>1</td>\n",
              "      <td>1</td>\n",
              "      <td>1</td>\n",
              "      <td>1</td>\n",
              "    </tr>\n",
              "    <tr>\n",
              "      <th>having_At_Symbol</th>\n",
              "      <td>1</td>\n",
              "      <td>1</td>\n",
              "      <td>1</td>\n",
              "      <td>1</td>\n",
              "      <td>1</td>\n",
              "      <td>1</td>\n",
              "      <td>1</td>\n",
              "      <td>1</td>\n",
              "      <td>1</td>\n",
              "      <td>1</td>\n",
              "    </tr>\n",
              "    <tr>\n",
              "      <th>double_slash_redirecting</th>\n",
              "      <td>1</td>\n",
              "      <td>1</td>\n",
              "      <td>1</td>\n",
              "      <td>1</td>\n",
              "      <td>1</td>\n",
              "      <td>1</td>\n",
              "      <td>1</td>\n",
              "      <td>1</td>\n",
              "      <td>1</td>\n",
              "      <td>1</td>\n",
              "    </tr>\n",
              "    <tr>\n",
              "      <th>Prefix_Suffix</th>\n",
              "      <td>-1</td>\n",
              "      <td>-1</td>\n",
              "      <td>-1</td>\n",
              "      <td>-1</td>\n",
              "      <td>-1</td>\n",
              "      <td>-1</td>\n",
              "      <td>1</td>\n",
              "      <td>-1</td>\n",
              "      <td>-1</td>\n",
              "      <td>-1</td>\n",
              "    </tr>\n",
              "    <tr>\n",
              "      <th>having_Sub_Domain</th>\n",
              "      <td>0</td>\n",
              "      <td>-1</td>\n",
              "      <td>1</td>\n",
              "      <td>1</td>\n",
              "      <td>-1</td>\n",
              "      <td>1</td>\n",
              "      <td>1</td>\n",
              "      <td>-1</td>\n",
              "      <td>1</td>\n",
              "      <td>1</td>\n",
              "    </tr>\n",
              "    <tr>\n",
              "      <th>SSLfinal_State</th>\n",
              "      <td>-1</td>\n",
              "      <td>0</td>\n",
              "      <td>1</td>\n",
              "      <td>1</td>\n",
              "      <td>-1</td>\n",
              "      <td>1</td>\n",
              "      <td>1</td>\n",
              "      <td>-1</td>\n",
              "      <td>1</td>\n",
              "      <td>1</td>\n",
              "    </tr>\n",
              "    <tr>\n",
              "      <th>Domain_registeration_length</th>\n",
              "      <td>-1</td>\n",
              "      <td>1</td>\n",
              "      <td>-1</td>\n",
              "      <td>-1</td>\n",
              "      <td>-1</td>\n",
              "      <td>1</td>\n",
              "      <td>-1</td>\n",
              "      <td>-1</td>\n",
              "      <td>-1</td>\n",
              "      <td>-1</td>\n",
              "    </tr>\n",
              "    <tr>\n",
              "      <th>Favicon</th>\n",
              "      <td>1</td>\n",
              "      <td>1</td>\n",
              "      <td>1</td>\n",
              "      <td>1</td>\n",
              "      <td>1</td>\n",
              "      <td>1</td>\n",
              "      <td>1</td>\n",
              "      <td>1</td>\n",
              "      <td>1</td>\n",
              "      <td>1</td>\n",
              "    </tr>\n",
              "    <tr>\n",
              "      <th>port</th>\n",
              "      <td>1</td>\n",
              "      <td>1</td>\n",
              "      <td>1</td>\n",
              "      <td>1</td>\n",
              "      <td>1</td>\n",
              "      <td>1</td>\n",
              "      <td>1</td>\n",
              "      <td>1</td>\n",
              "      <td>1</td>\n",
              "      <td>1</td>\n",
              "    </tr>\n",
              "    <tr>\n",
              "      <th>HTTPS_token</th>\n",
              "      <td>1</td>\n",
              "      <td>1</td>\n",
              "      <td>1</td>\n",
              "      <td>1</td>\n",
              "      <td>1</td>\n",
              "      <td>1</td>\n",
              "      <td>1</td>\n",
              "      <td>1</td>\n",
              "      <td>1</td>\n",
              "      <td>1</td>\n",
              "    </tr>\n",
              "    <tr>\n",
              "      <th>Request_URL</th>\n",
              "      <td>1</td>\n",
              "      <td>-1</td>\n",
              "      <td>1</td>\n",
              "      <td>-1</td>\n",
              "      <td>1</td>\n",
              "      <td>1</td>\n",
              "      <td>1</td>\n",
              "      <td>-1</td>\n",
              "      <td>1</td>\n",
              "      <td>1</td>\n",
              "    </tr>\n",
              "    <tr>\n",
              "      <th>URL_of_Anchor</th>\n",
              "      <td>0</td>\n",
              "      <td>-1</td>\n",
              "      <td>0</td>\n",
              "      <td>1</td>\n",
              "      <td>0</td>\n",
              "      <td>0</td>\n",
              "      <td>0</td>\n",
              "      <td>0</td>\n",
              "      <td>1</td>\n",
              "      <td>0</td>\n",
              "    </tr>\n",
              "    <tr>\n",
              "      <th>Links_in_tags</th>\n",
              "      <td>-1</td>\n",
              "      <td>0</td>\n",
              "      <td>0</td>\n",
              "      <td>1</td>\n",
              "      <td>-1</td>\n",
              "      <td>0</td>\n",
              "      <td>1</td>\n",
              "      <td>-1</td>\n",
              "      <td>0</td>\n",
              "      <td>-1</td>\n",
              "    </tr>\n",
              "    <tr>\n",
              "      <th>SFH</th>\n",
              "      <td>-1</td>\n",
              "      <td>-1</td>\n",
              "      <td>-1</td>\n",
              "      <td>-1</td>\n",
              "      <td>-1</td>\n",
              "      <td>-1</td>\n",
              "      <td>-1</td>\n",
              "      <td>-1</td>\n",
              "      <td>-1</td>\n",
              "      <td>0</td>\n",
              "    </tr>\n",
              "    <tr>\n",
              "      <th>Submitting_to_email</th>\n",
              "      <td>1</td>\n",
              "      <td>1</td>\n",
              "      <td>1</td>\n",
              "      <td>1</td>\n",
              "      <td>1</td>\n",
              "      <td>1</td>\n",
              "      <td>1</td>\n",
              "      <td>1</td>\n",
              "      <td>1</td>\n",
              "      <td>1</td>\n",
              "    </tr>\n",
              "    <tr>\n",
              "      <th>Abnormal_URL</th>\n",
              "      <td>1</td>\n",
              "      <td>1</td>\n",
              "      <td>1</td>\n",
              "      <td>1</td>\n",
              "      <td>1</td>\n",
              "      <td>1</td>\n",
              "      <td>1</td>\n",
              "      <td>1</td>\n",
              "      <td>1</td>\n",
              "      <td>1</td>\n",
              "    </tr>\n",
              "    <tr>\n",
              "      <th>Redirect</th>\n",
              "      <td>0</td>\n",
              "      <td>0</td>\n",
              "      <td>0</td>\n",
              "      <td>0</td>\n",
              "      <td>0</td>\n",
              "      <td>0</td>\n",
              "      <td>0</td>\n",
              "      <td>0</td>\n",
              "      <td>0</td>\n",
              "      <td>0</td>\n",
              "    </tr>\n",
              "    <tr>\n",
              "      <th>on_mouseover</th>\n",
              "      <td>1</td>\n",
              "      <td>1</td>\n",
              "      <td>1</td>\n",
              "      <td>1</td>\n",
              "      <td>1</td>\n",
              "      <td>1</td>\n",
              "      <td>1</td>\n",
              "      <td>1</td>\n",
              "      <td>1</td>\n",
              "      <td>1</td>\n",
              "    </tr>\n",
              "    <tr>\n",
              "      <th>RightClick</th>\n",
              "      <td>1</td>\n",
              "      <td>1</td>\n",
              "      <td>1</td>\n",
              "      <td>1</td>\n",
              "      <td>1</td>\n",
              "      <td>1</td>\n",
              "      <td>1</td>\n",
              "      <td>1</td>\n",
              "      <td>1</td>\n",
              "      <td>1</td>\n",
              "    </tr>\n",
              "    <tr>\n",
              "      <th>popUpWidnow</th>\n",
              "      <td>1</td>\n",
              "      <td>1</td>\n",
              "      <td>1</td>\n",
              "      <td>1</td>\n",
              "      <td>1</td>\n",
              "      <td>1</td>\n",
              "      <td>1</td>\n",
              "      <td>1</td>\n",
              "      <td>1</td>\n",
              "      <td>1</td>\n",
              "    </tr>\n",
              "    <tr>\n",
              "      <th>Iframe</th>\n",
              "      <td>1</td>\n",
              "      <td>1</td>\n",
              "      <td>1</td>\n",
              "      <td>1</td>\n",
              "      <td>1</td>\n",
              "      <td>1</td>\n",
              "      <td>1</td>\n",
              "      <td>1</td>\n",
              "      <td>1</td>\n",
              "      <td>1</td>\n",
              "    </tr>\n",
              "    <tr>\n",
              "      <th>age_of_domain</th>\n",
              "      <td>1</td>\n",
              "      <td>1</td>\n",
              "      <td>1</td>\n",
              "      <td>1</td>\n",
              "      <td>-1</td>\n",
              "      <td>1</td>\n",
              "      <td>1</td>\n",
              "      <td>1</td>\n",
              "      <td>1</td>\n",
              "      <td>1</td>\n",
              "    </tr>\n",
              "    <tr>\n",
              "      <th>DNSRecord</th>\n",
              "      <td>1</td>\n",
              "      <td>1</td>\n",
              "      <td>1</td>\n",
              "      <td>1</td>\n",
              "      <td>-1</td>\n",
              "      <td>1</td>\n",
              "      <td>-1</td>\n",
              "      <td>1</td>\n",
              "      <td>1</td>\n",
              "      <td>1</td>\n",
              "    </tr>\n",
              "    <tr>\n",
              "      <th>web_traffic</th>\n",
              "      <td>1</td>\n",
              "      <td>0</td>\n",
              "      <td>1</td>\n",
              "      <td>-1</td>\n",
              "      <td>-1</td>\n",
              "      <td>0</td>\n",
              "      <td>-1</td>\n",
              "      <td>-1</td>\n",
              "      <td>1</td>\n",
              "      <td>-1</td>\n",
              "    </tr>\n",
              "    <tr>\n",
              "      <th>Page_Rank</th>\n",
              "      <td>-1</td>\n",
              "      <td>-1</td>\n",
              "      <td>1</td>\n",
              "      <td>-1</td>\n",
              "      <td>1</td>\n",
              "      <td>-1</td>\n",
              "      <td>-1</td>\n",
              "      <td>1</td>\n",
              "      <td>-1</td>\n",
              "      <td>-1</td>\n",
              "    </tr>\n",
              "    <tr>\n",
              "      <th>Google_Index</th>\n",
              "      <td>1</td>\n",
              "      <td>-1</td>\n",
              "      <td>-1</td>\n",
              "      <td>1</td>\n",
              "      <td>1</td>\n",
              "      <td>1</td>\n",
              "      <td>1</td>\n",
              "      <td>1</td>\n",
              "      <td>1</td>\n",
              "      <td>1</td>\n",
              "    </tr>\n",
              "    <tr>\n",
              "      <th>Links_pointing_to_page</th>\n",
              "      <td>0</td>\n",
              "      <td>0</td>\n",
              "      <td>0</td>\n",
              "      <td>0</td>\n",
              "      <td>1</td>\n",
              "      <td>1</td>\n",
              "      <td>1</td>\n",
              "      <td>0</td>\n",
              "      <td>-1</td>\n",
              "      <td>0</td>\n",
              "    </tr>\n",
              "    <tr>\n",
              "      <th>Statistical_report</th>\n",
              "      <td>1</td>\n",
              "      <td>1</td>\n",
              "      <td>1</td>\n",
              "      <td>1</td>\n",
              "      <td>1</td>\n",
              "      <td>1</td>\n",
              "      <td>1</td>\n",
              "      <td>1</td>\n",
              "      <td>1</td>\n",
              "      <td>1</td>\n",
              "    </tr>\n",
              "    <tr>\n",
              "      <th>Result</th>\n",
              "      <td>-1</td>\n",
              "      <td>-1</td>\n",
              "      <td>1</td>\n",
              "      <td>1</td>\n",
              "      <td>-1</td>\n",
              "      <td>1</td>\n",
              "      <td>1</td>\n",
              "      <td>-1</td>\n",
              "      <td>1</td>\n",
              "      <td>1</td>\n",
              "    </tr>\n",
              "  </tbody>\n",
              "</table>\n",
              "</div>\n",
              "      <button class=\"colab-df-convert\" onclick=\"convertToInteractive('df-b5bba783-b0f0-491c-8acb-02c05da39837')\"\n",
              "              title=\"Convert this dataframe to an interactive table.\"\n",
              "              style=\"display:none;\">\n",
              "        \n",
              "  <svg xmlns=\"http://www.w3.org/2000/svg\" height=\"24px\"viewBox=\"0 0 24 24\"\n",
              "       width=\"24px\">\n",
              "    <path d=\"M0 0h24v24H0V0z\" fill=\"none\"/>\n",
              "    <path d=\"M18.56 5.44l.94 2.06.94-2.06 2.06-.94-2.06-.94-.94-2.06-.94 2.06-2.06.94zm-11 1L8.5 8.5l.94-2.06 2.06-.94-2.06-.94L8.5 2.5l-.94 2.06-2.06.94zm10 10l.94 2.06.94-2.06 2.06-.94-2.06-.94-.94-2.06-.94 2.06-2.06.94z\"/><path d=\"M17.41 7.96l-1.37-1.37c-.4-.4-.92-.59-1.43-.59-.52 0-1.04.2-1.43.59L10.3 9.45l-7.72 7.72c-.78.78-.78 2.05 0 2.83L4 21.41c.39.39.9.59 1.41.59.51 0 1.02-.2 1.41-.59l7.78-7.78 2.81-2.81c.8-.78.8-2.07 0-2.86zM5.41 20L4 18.59l7.72-7.72 1.47 1.35L5.41 20z\"/>\n",
              "  </svg>\n",
              "      </button>\n",
              "      \n",
              "  <style>\n",
              "    .colab-df-container {\n",
              "      display:flex;\n",
              "      flex-wrap:wrap;\n",
              "      gap: 12px;\n",
              "    }\n",
              "\n",
              "    .colab-df-convert {\n",
              "      background-color: #E8F0FE;\n",
              "      border: none;\n",
              "      border-radius: 50%;\n",
              "      cursor: pointer;\n",
              "      display: none;\n",
              "      fill: #1967D2;\n",
              "      height: 32px;\n",
              "      padding: 0 0 0 0;\n",
              "      width: 32px;\n",
              "    }\n",
              "\n",
              "    .colab-df-convert:hover {\n",
              "      background-color: #E2EBFA;\n",
              "      box-shadow: 0px 1px 2px rgba(60, 64, 67, 0.3), 0px 1px 3px 1px rgba(60, 64, 67, 0.15);\n",
              "      fill: #174EA6;\n",
              "    }\n",
              "\n",
              "    [theme=dark] .colab-df-convert {\n",
              "      background-color: #3B4455;\n",
              "      fill: #D2E3FC;\n",
              "    }\n",
              "\n",
              "    [theme=dark] .colab-df-convert:hover {\n",
              "      background-color: #434B5C;\n",
              "      box-shadow: 0px 1px 3px 1px rgba(0, 0, 0, 0.15);\n",
              "      filter: drop-shadow(0px 1px 2px rgba(0, 0, 0, 0.3));\n",
              "      fill: #FFFFFF;\n",
              "    }\n",
              "  </style>\n",
              "\n",
              "      <script>\n",
              "        const buttonEl =\n",
              "          document.querySelector('#df-b5bba783-b0f0-491c-8acb-02c05da39837 button.colab-df-convert');\n",
              "        buttonEl.style.display =\n",
              "          google.colab.kernel.accessAllowed ? 'block' : 'none';\n",
              "\n",
              "        async function convertToInteractive(key) {\n",
              "          const element = document.querySelector('#df-b5bba783-b0f0-491c-8acb-02c05da39837');\n",
              "          const dataTable =\n",
              "            await google.colab.kernel.invokeFunction('convertToInteractive',\n",
              "                                                     [key], {});\n",
              "          if (!dataTable) return;\n",
              "\n",
              "          const docLinkHtml = 'Like what you see? Visit the ' +\n",
              "            '<a target=\"_blank\" href=https://colab.research.google.com/notebooks/data_table.ipynb>data table notebook</a>'\n",
              "            + ' to learn more about interactive tables.';\n",
              "          element.innerHTML = '';\n",
              "          dataTable['output_type'] = 'display_data';\n",
              "          await google.colab.output.renderOutput(dataTable, element);\n",
              "          const docLink = document.createElement('div');\n",
              "          docLink.innerHTML = docLinkHtml;\n",
              "          element.appendChild(docLink);\n",
              "        }\n",
              "      </script>\n",
              "    </div>\n",
              "  </div>\n",
              "  "
            ]
          },
          "metadata": {},
          "execution_count": 4
        }
      ]
    },
    {
      "cell_type": "code",
      "metadata": {
        "colab": {
          "base_uri": "https://localhost:8080/"
        },
        "id": "0eEMICLMqsMn",
        "outputId": "4fc9fd9d-de0c-4354-c071-a51b7e4a6c4e"
      },
      "source": [
        "data.shape\n"
      ],
      "execution_count": null,
      "outputs": [
        {
          "output_type": "execute_result",
          "data": {
            "text/plain": [
              "(11055, 32)"
            ]
          },
          "metadata": {},
          "execution_count": 4
        }
      ]
    },
    {
      "cell_type": "code",
      "metadata": {
        "colab": {
          "base_uri": "https://localhost:8080/"
        },
        "id": "QDYYAZIdqu8S",
        "outputId": "b3b29c56-da4f-4064-a5f1-8ba84cbf8399"
      },
      "source": [
        "data.columns"
      ],
      "execution_count": null,
      "outputs": [
        {
          "output_type": "execute_result",
          "data": {
            "text/plain": [
              "Index(['id', 'having_IP_Address', 'URL_Length', 'Shortining_Service',\n",
              "       'having_At_Symbol', 'double_slash_redirecting', 'Prefix_Suffix',\n",
              "       'having_Sub_Domain', 'SSLfinal_State', 'Domain_registeration_length',\n",
              "       'Favicon', 'port', 'HTTPS_token', 'Request_URL', 'URL_of_Anchor',\n",
              "       'Links_in_tags', 'SFH', 'Submitting_to_email', 'Abnormal_URL',\n",
              "       'Redirect', 'on_mouseover', 'RightClick', 'popUpWidnow', 'Iframe',\n",
              "       'age_of_domain', 'DNSRecord', 'web_traffic', 'Page_Rank',\n",
              "       'Google_Index', 'Links_pointing_to_page', 'Statistical_report',\n",
              "       'Result'],\n",
              "      dtype='object')"
            ]
          },
          "metadata": {},
          "execution_count": 5
        }
      ]
    },
    {
      "cell_type": "markdown",
      "metadata": {
        "id": "AMZig3aEynI8"
      },
      "source": [
        "Finding out the distribution of the class labels and preparing a report"
      ]
    },
    {
      "cell_type": "code",
      "metadata": {
        "colab": {
          "base_uri": "https://localhost:8080/"
        },
        "id": "1rsbK_Giqxn2",
        "outputId": "2823cb45-d0e8-4d39-c20a-a9e3bd246819"
      },
      "source": [
        "from collections import Counter\n",
        "\n",
        "classes = Counter(data['Result'].values)\n",
        "classes.most_common()"
      ],
      "execution_count": null,
      "outputs": [
        {
          "output_type": "execute_result",
          "data": {
            "text/plain": [
              "[(1, 6157), (-1, 4898)]"
            ]
          },
          "metadata": {},
          "execution_count": 6
        }
      ]
    },
    {
      "cell_type": "code",
      "metadata": {
        "colab": {
          "base_uri": "https://localhost:8080/",
          "height": 112
        },
        "id": "BpfFoLhQq0KE",
        "outputId": "a85cd24c-f370-4d84-dc2b-54d243125169"
      },
      "source": [
        "class_dist = pd.DataFrame(classes.most_common(), columns=['Class', 'Num_Observations'])\n",
        "class_dist"
      ],
      "execution_count": null,
      "outputs": [
        {
          "output_type": "execute_result",
          "data": {
            "text/plain": [
              "   Class  Num_Observations\n",
              "0      1              6157\n",
              "1     -1              4898"
            ],
            "text/html": [
              "\n",
              "  <div id=\"df-6c750ed3-8a96-4615-8c5b-7cc286e5f8d7\">\n",
              "    <div class=\"colab-df-container\">\n",
              "      <div>\n",
              "<style scoped>\n",
              "    .dataframe tbody tr th:only-of-type {\n",
              "        vertical-align: middle;\n",
              "    }\n",
              "\n",
              "    .dataframe tbody tr th {\n",
              "        vertical-align: top;\n",
              "    }\n",
              "\n",
              "    .dataframe thead th {\n",
              "        text-align: right;\n",
              "    }\n",
              "</style>\n",
              "<table border=\"1\" class=\"dataframe\">\n",
              "  <thead>\n",
              "    <tr style=\"text-align: right;\">\n",
              "      <th></th>\n",
              "      <th>Class</th>\n",
              "      <th>Num_Observations</th>\n",
              "    </tr>\n",
              "  </thead>\n",
              "  <tbody>\n",
              "    <tr>\n",
              "      <th>0</th>\n",
              "      <td>1</td>\n",
              "      <td>6157</td>\n",
              "    </tr>\n",
              "    <tr>\n",
              "      <th>1</th>\n",
              "      <td>-1</td>\n",
              "      <td>4898</td>\n",
              "    </tr>\n",
              "  </tbody>\n",
              "</table>\n",
              "</div>\n",
              "      <button class=\"colab-df-convert\" onclick=\"convertToInteractive('df-6c750ed3-8a96-4615-8c5b-7cc286e5f8d7')\"\n",
              "              title=\"Convert this dataframe to an interactive table.\"\n",
              "              style=\"display:none;\">\n",
              "        \n",
              "  <svg xmlns=\"http://www.w3.org/2000/svg\" height=\"24px\"viewBox=\"0 0 24 24\"\n",
              "       width=\"24px\">\n",
              "    <path d=\"M0 0h24v24H0V0z\" fill=\"none\"/>\n",
              "    <path d=\"M18.56 5.44l.94 2.06.94-2.06 2.06-.94-2.06-.94-.94-2.06-.94 2.06-2.06.94zm-11 1L8.5 8.5l.94-2.06 2.06-.94-2.06-.94L8.5 2.5l-.94 2.06-2.06.94zm10 10l.94 2.06.94-2.06 2.06-.94-2.06-.94-.94-2.06-.94 2.06-2.06.94z\"/><path d=\"M17.41 7.96l-1.37-1.37c-.4-.4-.92-.59-1.43-.59-.52 0-1.04.2-1.43.59L10.3 9.45l-7.72 7.72c-.78.78-.78 2.05 0 2.83L4 21.41c.39.39.9.59 1.41.59.51 0 1.02-.2 1.41-.59l7.78-7.78 2.81-2.81c.8-.78.8-2.07 0-2.86zM5.41 20L4 18.59l7.72-7.72 1.47 1.35L5.41 20z\"/>\n",
              "  </svg>\n",
              "      </button>\n",
              "      \n",
              "  <style>\n",
              "    .colab-df-container {\n",
              "      display:flex;\n",
              "      flex-wrap:wrap;\n",
              "      gap: 12px;\n",
              "    }\n",
              "\n",
              "    .colab-df-convert {\n",
              "      background-color: #E8F0FE;\n",
              "      border: none;\n",
              "      border-radius: 50%;\n",
              "      cursor: pointer;\n",
              "      display: none;\n",
              "      fill: #1967D2;\n",
              "      height: 32px;\n",
              "      padding: 0 0 0 0;\n",
              "      width: 32px;\n",
              "    }\n",
              "\n",
              "    .colab-df-convert:hover {\n",
              "      background-color: #E2EBFA;\n",
              "      box-shadow: 0px 1px 2px rgba(60, 64, 67, 0.3), 0px 1px 3px 1px rgba(60, 64, 67, 0.15);\n",
              "      fill: #174EA6;\n",
              "    }\n",
              "\n",
              "    [theme=dark] .colab-df-convert {\n",
              "      background-color: #3B4455;\n",
              "      fill: #D2E3FC;\n",
              "    }\n",
              "\n",
              "    [theme=dark] .colab-df-convert:hover {\n",
              "      background-color: #434B5C;\n",
              "      box-shadow: 0px 1px 3px 1px rgba(0, 0, 0, 0.15);\n",
              "      filter: drop-shadow(0px 1px 2px rgba(0, 0, 0, 0.3));\n",
              "      fill: #FFFFFF;\n",
              "    }\n",
              "  </style>\n",
              "\n",
              "      <script>\n",
              "        const buttonEl =\n",
              "          document.querySelector('#df-6c750ed3-8a96-4615-8c5b-7cc286e5f8d7 button.colab-df-convert');\n",
              "        buttonEl.style.display =\n",
              "          google.colab.kernel.accessAllowed ? 'block' : 'none';\n",
              "\n",
              "        async function convertToInteractive(key) {\n",
              "          const element = document.querySelector('#df-6c750ed3-8a96-4615-8c5b-7cc286e5f8d7');\n",
              "          const dataTable =\n",
              "            await google.colab.kernel.invokeFunction('convertToInteractive',\n",
              "                                                     [key], {});\n",
              "          if (!dataTable) return;\n",
              "\n",
              "          const docLinkHtml = 'Like what you see? Visit the ' +\n",
              "            '<a target=\"_blank\" href=https://colab.research.google.com/notebooks/data_table.ipynb>data table notebook</a>'\n",
              "            + ' to learn more about interactive tables.';\n",
              "          element.innerHTML = '';\n",
              "          dataTable['output_type'] = 'display_data';\n",
              "          await google.colab.output.renderOutput(dataTable, element);\n",
              "          const docLink = document.createElement('div');\n",
              "          docLink.innerHTML = docLinkHtml;\n",
              "          element.appendChild(docLink);\n",
              "        }\n",
              "      </script>\n",
              "    </div>\n",
              "  </div>\n",
              "  "
            ]
          },
          "metadata": {},
          "execution_count": 8
        }
      ]
    },
    {
      "cell_type": "markdown",
      "metadata": {
        "id": "ygb0s0inysBf"
      },
      "source": [
        "Preparing a basic bar plot of the distribution of the class labels\n"
      ]
    },
    {
      "cell_type": "code",
      "metadata": {
        "colab": {
          "base_uri": "https://localhost:8080/",
          "height": 519
        },
        "id": "Tm7fgu8Pq3F2",
        "outputId": "4b6126dd-3a8a-49fa-d3a8-79f5b9924388"
      },
      "source": [
        "import matplotlib.pyplot as plt\n",
        "%matplotlib inline\n",
        "plt.style.use('ggplot')\n",
        "\n",
        "subplot = class_dist.groupby('Class')['Num_Observations'].sum().plot(kind='barh', width=0.2, figsize=(10,8))\n",
        "\n",
        "subplot.set_title('Class distribution of the websites', fontsize = 15)\n",
        "subplot.set_xlabel('Number of Observations', fontsize = 14)\n",
        "subplot.set_ylabel('Class', fontsize = 14)\n",
        "\n",
        "for i in subplot.patches:\n",
        "    subplot.text(i.get_width()+0.1, i.get_y()+0.1, \\\n",
        "            str(i.get_width()), fontsize=11)"
      ],
      "execution_count": null,
      "outputs": [
        {
          "output_type": "display_data",
          "data": {
            "text/plain": [
              "<Figure size 720x576 with 1 Axes>"
            ],
            "image/png": "[encoded data removed]"
          },
          "metadata": {}
        }
      ]
    },
    {
      "cell_type": "code",
      "metadata": {
        "colab": {
          "base_uri": "https://localhost:8080/",
          "height": 1000
        },
        "id": "RnScbYIvq5J2",
        "outputId": "9e0c6bb0-670a-441c-c85b-91000773663d"
      },
      "source": [
        "data.describe().T\n"
      ],
      "execution_count": null,
      "outputs": [
        {
          "output_type": "execute_result",
          "data": {
            "text/plain": [
              "                               count         mean          std  min     25%  \\\n",
              "id                           11055.0  5528.000000  3191.447947  1.0  2764.5   \n",
              "having_IP_Address            11055.0     0.313795     0.949534 -1.0    -1.0   \n",
              "URL_Length                   11055.0    -0.633198     0.766095 -1.0    -1.0   \n",
              "Shortining_Service           11055.0     0.738761     0.673998 -1.0     1.0   \n",
              "having_At_Symbol             11055.0     0.700588     0.713598 -1.0     1.0   \n",
              "double_slash_redirecting     11055.0     0.741474     0.671011 -1.0     1.0   \n",
              "Prefix_Suffix                11055.0    -0.734962     0.678139 -1.0    -1.0   \n",
              "having_Sub_Domain            11055.0     0.063953     0.817518 -1.0    -1.0   \n",
              "SSLfinal_State               11055.0     0.250927     0.911892 -1.0    -1.0   \n",
              "Domain_registeration_length  11055.0    -0.336771     0.941629 -1.0    -1.0   \n",
              "Favicon                      11055.0     0.628584     0.777777 -1.0     1.0   \n",
              "port                         11055.0     0.728268     0.685324 -1.0     1.0   \n",
              "HTTPS_token                  11055.0     0.675079     0.737779 -1.0     1.0   \n",
              "Request_URL                  11055.0     0.186793     0.982444 -1.0    -1.0   \n",
              "URL_of_Anchor                11055.0    -0.076526     0.715138 -1.0    -1.0   \n",
              "Links_in_tags                11055.0    -0.118137     0.763973 -1.0    -1.0   \n",
              "SFH                          11055.0    -0.595749     0.759143 -1.0    -1.0   \n",
              "Submitting_to_email          11055.0     0.635640     0.772021 -1.0     1.0   \n",
              "Abnormal_URL                 11055.0     0.705292     0.708949 -1.0     1.0   \n",
              "Redirect                     11055.0     0.115694     0.319872  0.0     0.0   \n",
              "on_mouseover                 11055.0     0.762099     0.647490 -1.0     1.0   \n",
              "RightClick                   11055.0     0.913885     0.405991 -1.0     1.0   \n",
              "popUpWidnow                  11055.0     0.613388     0.789818 -1.0     1.0   \n",
              "Iframe                       11055.0     0.816915     0.576784 -1.0     1.0   \n",
              "age_of_domain                11055.0     0.061239     0.998168 -1.0    -1.0   \n",
              "DNSRecord                    11055.0     0.377114     0.926209 -1.0    -1.0   \n",
              "web_traffic                  11055.0     0.287291     0.827733 -1.0     0.0   \n",
              "Page_Rank                    11055.0    -0.483673     0.875289 -1.0    -1.0   \n",
              "Google_Index                 11055.0     0.721574     0.692369 -1.0     1.0   \n",
              "Links_pointing_to_page       11055.0     0.344007     0.569944 -1.0     0.0   \n",
              "Statistical_report           11055.0     0.719584     0.694437 -1.0     1.0   \n",
              "Result                       11055.0     0.113885     0.993539 -1.0    -1.0   \n",
              "\n",
              "                                50%     75%      max  \n",
              "id                           5528.0  8291.5  11055.0  \n",
              "having_IP_Address               1.0     1.0      1.0  \n",
              "URL_Length                     -1.0    -1.0      1.0  \n",
              "Shortining_Service              1.0     1.0      1.0  \n",
              "having_At_Symbol                1.0     1.0      1.0  \n",
              "double_slash_redirecting        1.0     1.0      1.0  \n",
              "Prefix_Suffix                  -1.0    -1.0      1.0  \n",
              "having_Sub_Domain               0.0     1.0      1.0  \n",
              "SSLfinal_State                  1.0     1.0      1.0  \n",
              "Domain_registeration_length    -1.0     1.0      1.0  \n",
              "Favicon                         1.0     1.0      1.0  \n",
              "port                            1.0     1.0      1.0  \n",
              "HTTPS_token                     1.0     1.0      1.0  \n",
              "Request_URL                     1.0     1.0      1.0  \n",
              "URL_of_Anchor                   0.0     0.0      1.0  \n",
              "Links_in_tags                   0.0     0.0      1.0  \n",
              "SFH                            -1.0    -1.0      1.0  \n",
              "Submitting_to_email             1.0     1.0      1.0  \n",
              "Abnormal_URL                    1.0     1.0      1.0  \n",
              "Redirect                        0.0     0.0      1.0  \n",
              "on_mouseover                    1.0     1.0      1.0  \n",
              "RightClick                      1.0     1.0      1.0  \n",
              "popUpWidnow                     1.0     1.0      1.0  \n",
              "Iframe                          1.0     1.0      1.0  \n",
              "age_of_domain                   1.0     1.0      1.0  \n",
              "DNSRecord                       1.0     1.0      1.0  \n",
              "web_traffic                     1.0     1.0      1.0  \n",
              "Page_Rank                      -1.0     1.0      1.0  \n",
              "Google_Index                    1.0     1.0      1.0  \n",
              "Links_pointing_to_page          0.0     1.0      1.0  \n",
              "Statistical_report              1.0     1.0      1.0  \n",
              "Result                          1.0     1.0      1.0  "
            ],
            "text/html": [
              "\n",
              "  <div id=\"df-c3c4a68f-1617-47b2-9256-51ca39f84e47\">\n",
              "    <div class=\"colab-df-container\">\n",
              "      <div>\n",
              "<style scoped>\n",
              "    .dataframe tbody tr th:only-of-type {\n",
              "        vertical-align: middle;\n",
              "    }\n",
              "\n",
              "    .dataframe tbody tr th {\n",
              "        vertical-align: top;\n",
              "    }\n",
              "\n",
              "    .dataframe thead th {\n",
              "        text-align: right;\n",
              "    }\n",
              "</style>\n",
              "<table border=\"1\" class=\"dataframe\">\n",
              "  <thead>\n",
              "    <tr style=\"text-align: right;\">\n",
              "      <th></th>\n",
              "      <th>count</th>\n",
              "      <th>mean</th>\n",
              "      <th>std</th>\n",
              "      <th>min</th>\n",
              "      <th>25%</th>\n",
              "      <th>50%</th>\n",
              "      <th>75%</th>\n",
              "      <th>max</th>\n",
              "    </tr>\n",
              "  </thead>\n",
              "  <tbody>\n",
              "    <tr>\n",
              "      <th>id</th>\n",
              "      <td>11055.0</td>\n",
              "      <td>5528.000000</td>\n",
              "      <td>3191.447947</td>\n",
              "      <td>1.0</td>\n",
              "      <td>2764.5</td>\n",
              "      <td>5528.0</td>\n",
              "      <td>8291.5</td>\n",
              "      <td>11055.0</td>\n",
              "    </tr>\n",
              "    <tr>\n",
              "      <th>having_IP_Address</th>\n",
              "      <td>11055.0</td>\n",
              "      <td>0.313795</td>\n",
              "      <td>0.949534</td>\n",
              "      <td>-1.0</td>\n",
              "      <td>-1.0</td>\n",
              "      <td>1.0</td>\n",
              "      <td>1.0</td>\n",
              "      <td>1.0</td>\n",
              "    </tr>\n",
              "    <tr>\n",
              "      <th>URL_Length</th>\n",
              "      <td>11055.0</td>\n",
              "      <td>-0.633198</td>\n",
              "      <td>0.766095</td>\n",
              "      <td>-1.0</td>\n",
              "      <td>-1.0</td>\n",
              "      <td>-1.0</td>\n",
              "      <td>-1.0</td>\n",
              "      <td>1.0</td>\n",
              "    </tr>\n",
              "    <tr>\n",
              "      <th>Shortining_Service</th>\n",
              "      <td>11055.0</td>\n",
              "      <td>0.738761</td>\n",
              "      <td>0.673998</td>\n",
              "      <td>-1.0</td>\n",
              "      <td>1.0</td>\n",
              "      <td>1.0</td>\n",
              "      <td>1.0</td>\n",
              "      <td>1.0</td>\n",
              "    </tr>\n",
              "    <tr>\n",
              "      <th>having_At_Symbol</th>\n",
              "      <td>11055.0</td>\n",
              "      <td>0.700588</td>\n",
              "      <td>0.713598</td>\n",
              "      <td>-1.0</td>\n",
              "      <td>1.0</td>\n",
              "      <td>1.0</td>\n",
              "      <td>1.0</td>\n",
              "      <td>1.0</td>\n",
              "    </tr>\n",
              "    <tr>\n",
              "      <th>double_slash_redirecting</th>\n",
              "      <td>11055.0</td>\n",
              "      <td>0.741474</td>\n",
              "      <td>0.671011</td>\n",
              "      <td>-1.0</td>\n",
              "      <td>1.0</td>\n",
              "      <td>1.0</td>\n",
              "      <td>1.0</td>\n",
              "      <td>1.0</td>\n",
              "    </tr>\n",
              "    <tr>\n",
              "      <th>Prefix_Suffix</th>\n",
              "      <td>11055.0</td>\n",
              "      <td>-0.734962</td>\n",
              "      <td>0.678139</td>\n",
              "      <td>-1.0</td>\n",
              "      <td>-1.0</td>\n",
              "      <td>-1.0</td>\n",
              "      <td>-1.0</td>\n",
              "      <td>1.0</td>\n",
              "    </tr>\n",
              "    <tr>\n",
              "      <th>having_Sub_Domain</th>\n",
              "      <td>11055.0</td>\n",
              "      <td>0.063953</td>\n",
              "      <td>0.817518</td>\n",
              "      <td>-1.0</td>\n",
              "      <td>-1.0</td>\n",
              "      <td>0.0</td>\n",
              "      <td>1.0</td>\n",
              "      <td>1.0</td>\n",
              "    </tr>\n",
              "    <tr>\n",
              "      <th>SSLfinal_State</th>\n",
              "      <td>11055.0</td>\n",
              "      <td>0.250927</td>\n",
              "      <td>0.911892</td>\n",
              "      <td>-1.0</td>\n",
              "      <td>-1.0</td>\n",
              "      <td>1.0</td>\n",
              "      <td>1.0</td>\n",
              "      <td>1.0</td>\n",
              "    </tr>\n",
              "    <tr>\n",
              "      <th>Domain_registeration_length</th>\n",
              "      <td>11055.0</td>\n",
              "      <td>-0.336771</td>\n",
              "      <td>0.941629</td>\n",
              "      <td>-1.0</td>\n",
              "      <td>-1.0</td>\n",
              "      <td>-1.0</td>\n",
              "      <td>1.0</td>\n",
              "      <td>1.0</td>\n",
              "    </tr>\n",
              "    <tr>\n",
              "      <th>Favicon</th>\n",
              "      <td>11055.0</td>\n",
              "      <td>0.628584</td>\n",
              "      <td>0.777777</td>\n",
              "      <td>-1.0</td>\n",
              "      <td>1.0</td>\n",
              "      <td>1.0</td>\n",
              "      <td>1.0</td>\n",
              "      <td>1.0</td>\n",
              "    </tr>\n",
              "    <tr>\n",
              "      <th>port</th>\n",
              "      <td>11055.0</td>\n",
              "      <td>0.728268</td>\n",
              "      <td>0.685324</td>\n",
              "      <td>-1.0</td>\n",
              "      <td>1.0</td>\n",
              "      <td>1.0</td>\n",
              "      <td>1.0</td>\n",
              "      <td>1.0</td>\n",
              "    </tr>\n",
              "    <tr>\n",
              "      <th>HTTPS_token</th>\n",
              "      <td>11055.0</td>\n",
              "      <td>0.675079</td>\n",
              "      <td>0.737779</td>\n",
              "      <td>-1.0</td>\n",
              "      <td>1.0</td>\n",
              "      <td>1.0</td>\n",
              "      <td>1.0</td>\n",
              "      <td>1.0</td>\n",
              "    </tr>\n",
              "    <tr>\n",
              "      <th>Request_URL</th>\n",
              "      <td>11055.0</td>\n",
              "      <td>0.186793</td>\n",
              "      <td>0.982444</td>\n",
              "      <td>-1.0</td>\n",
              "      <td>-1.0</td>\n",
              "      <td>1.0</td>\n",
              "      <td>1.0</td>\n",
              "      <td>1.0</td>\n",
              "    </tr>\n",
              "    <tr>\n",
              "      <th>URL_of_Anchor</th>\n",
              "      <td>11055.0</td>\n",
              "      <td>-0.076526</td>\n",
              "      <td>0.715138</td>\n",
              "      <td>-1.0</td>\n",
              "      <td>-1.0</td>\n",
              "      <td>0.0</td>\n",
              "      <td>0.0</td>\n",
              "      <td>1.0</td>\n",
              "    </tr>\n",
              "    <tr>\n",
              "      <th>Links_in_tags</th>\n",
              "      <td>11055.0</td>\n",
              "      <td>-0.118137</td>\n",
              "      <td>0.763973</td>\n",
              "      <td>-1.0</td>\n",
              "      <td>-1.0</td>\n",
              "      <td>0.0</td>\n",
              "      <td>0.0</td>\n",
              "      <td>1.0</td>\n",
              "    </tr>\n",
              "    <tr>\n",
              "      <th>SFH</th>\n",
              "      <td>11055.0</td>\n",
              "      <td>-0.595749</td>\n",
              "      <td>0.759143</td>\n",
              "      <td>-1.0</td>\n",
              "      <td>-1.0</td>\n",
              "      <td>-1.0</td>\n",
              "      <td>-1.0</td>\n",
              "      <td>1.0</td>\n",
              "    </tr>\n",
              "    <tr>\n",
              "      <th>Submitting_to_email</th>\n",
              "      <td>11055.0</td>\n",
              "      <td>0.635640</td>\n",
              "      <td>0.772021</td>\n",
              "      <td>-1.0</td>\n",
              "      <td>1.0</td>\n",
              "      <td>1.0</td>\n",
              "      <td>1.0</td>\n",
              "      <td>1.0</td>\n",
              "    </tr>\n",
              "    <tr>\n",
              "      <th>Abnormal_URL</th>\n",
              "      <td>11055.0</td>\n",
              "      <td>0.705292</td>\n",
              "      <td>0.708949</td>\n",
              "      <td>-1.0</td>\n",
              "      <td>1.0</td>\n",
              "      <td>1.0</td>\n",
              "      <td>1.0</td>\n",
              "      <td>1.0</td>\n",
              "    </tr>\n",
              "    <tr>\n",
              "      <th>Redirect</th>\n",
              "      <td>11055.0</td>\n",
              "      <td>0.115694</td>\n",
              "      <td>0.319872</td>\n",
              "      <td>0.0</td>\n",
              "      <td>0.0</td>\n",
              "      <td>0.0</td>\n",
              "      <td>0.0</td>\n",
              "      <td>1.0</td>\n",
              "    </tr>\n",
              "    <tr>\n",
              "      <th>on_mouseover</th>\n",
              "      <td>11055.0</td>\n",
              "      <td>0.762099</td>\n",
              "      <td>0.647490</td>\n",
              "      <td>-1.0</td>\n",
              "      <td>1.0</td>\n",
              "      <td>1.0</td>\n",
              "      <td>1.0</td>\n",
              "      <td>1.0</td>\n",
              "    </tr>\n",
              "    <tr>\n",
              "      <th>RightClick</th>\n",
              "      <td>11055.0</td>\n",
              "      <td>0.913885</td>\n",
              "      <td>0.405991</td>\n",
              "      <td>-1.0</td>\n",
              "      <td>1.0</td>\n",
              "      <td>1.0</td>\n",
              "      <td>1.0</td>\n",
              "      <td>1.0</td>\n",
              "    </tr>\n",
              "    <tr>\n",
              "      <th>popUpWidnow</th>\n",
              "      <td>11055.0</td>\n",
              "      <td>0.613388</td>\n",
              "      <td>0.789818</td>\n",
              "      <td>-1.0</td>\n",
              "      <td>1.0</td>\n",
              "      <td>1.0</td>\n",
              "      <td>1.0</td>\n",
              "      <td>1.0</td>\n",
              "    </tr>\n",
              "    <tr>\n",
              "      <th>Iframe</th>\n",
              "      <td>11055.0</td>\n",
              "      <td>0.816915</td>\n",
              "      <td>0.576784</td>\n",
              "      <td>-1.0</td>\n",
              "      <td>1.0</td>\n",
              "      <td>1.0</td>\n",
              "      <td>1.0</td>\n",
              "      <td>1.0</td>\n",
              "    </tr>\n",
              "    <tr>\n",
              "      <th>age_of_domain</th>\n",
              "      <td>11055.0</td>\n",
              "      <td>0.061239</td>\n",
              "      <td>0.998168</td>\n",
              "      <td>-1.0</td>\n",
              "      <td>-1.0</td>\n",
              "      <td>1.0</td>\n",
              "      <td>1.0</td>\n",
              "      <td>1.0</td>\n",
              "    </tr>\n",
              "    <tr>\n",
              "      <th>DNSRecord</th>\n",
              "      <td>11055.0</td>\n",
              "      <td>0.377114</td>\n",
              "      <td>0.926209</td>\n",
              "      <td>-1.0</td>\n",
              "      <td>-1.0</td>\n",
              "      <td>1.0</td>\n",
              "      <td>1.0</td>\n",
              "      <td>1.0</td>\n",
              "    </tr>\n",
              "    <tr>\n",
              "      <th>web_traffic</th>\n",
              "      <td>11055.0</td>\n",
              "      <td>0.287291</td>\n",
              "      <td>0.827733</td>\n",
              "      <td>-1.0</td>\n",
              "      <td>0.0</td>\n",
              "      <td>1.0</td>\n",
              "      <td>1.0</td>\n",
              "      <td>1.0</td>\n",
              "    </tr>\n",
              "    <tr>\n",
              "      <th>Page_Rank</th>\n",
              "      <td>11055.0</td>\n",
              "      <td>-0.483673</td>\n",
              "      <td>0.875289</td>\n",
              "      <td>-1.0</td>\n",
              "      <td>-1.0</td>\n",
              "      <td>-1.0</td>\n",
              "      <td>1.0</td>\n",
              "      <td>1.0</td>\n",
              "    </tr>\n",
              "    <tr>\n",
              "      <th>Google_Index</th>\n",
              "      <td>11055.0</td>\n",
              "      <td>0.721574</td>\n",
              "      <td>0.692369</td>\n",
              "      <td>-1.0</td>\n",
              "      <td>1.0</td>\n",
              "      <td>1.0</td>\n",
              "      <td>1.0</td>\n",
              "      <td>1.0</td>\n",
              "    </tr>\n",
              "    <tr>\n",
              "      <th>Links_pointing_to_page</th>\n",
              "      <td>11055.0</td>\n",
              "      <td>0.344007</td>\n",
              "      <td>0.569944</td>\n",
              "      <td>-1.0</td>\n",
              "      <td>0.0</td>\n",
              "      <td>0.0</td>\n",
              "      <td>1.0</td>\n",
              "      <td>1.0</td>\n",
              "    </tr>\n",
              "    <tr>\n",
              "      <th>Statistical_report</th>\n",
              "      <td>11055.0</td>\n",
              "      <td>0.719584</td>\n",
              "      <td>0.694437</td>\n",
              "      <td>-1.0</td>\n",
              "      <td>1.0</td>\n",
              "      <td>1.0</td>\n",
              "      <td>1.0</td>\n",
              "      <td>1.0</td>\n",
              "    </tr>\n",
              "    <tr>\n",
              "      <th>Result</th>\n",
              "      <td>11055.0</td>\n",
              "      <td>0.113885</td>\n",
              "      <td>0.993539</td>\n",
              "      <td>-1.0</td>\n",
              "      <td>-1.0</td>\n",
              "      <td>1.0</td>\n",
              "      <td>1.0</td>\n",
              "      <td>1.0</td>\n",
              "    </tr>\n",
              "  </tbody>\n",
              "</table>\n",
              "</div>\n",
              "      <button class=\"colab-df-convert\" onclick=\"convertToInteractive('df-c3c4a68f-1617-47b2-9256-51ca39f84e47')\"\n",
              "              title=\"Convert this dataframe to an interactive table.\"\n",
              "              style=\"display:none;\">\n",
              "        \n",
              "  <svg xmlns=\"http://www.w3.org/2000/svg\" height=\"24px\"viewBox=\"0 0 24 24\"\n",
              "       width=\"24px\">\n",
              "    <path d=\"M0 0h24v24H0V0z\" fill=\"none\"/>\n",
              "    <path d=\"M18.56 5.44l.94 2.06.94-2.06 2.06-.94-2.06-.94-.94-2.06-.94 2.06-2.06.94zm-11 1L8.5 8.5l.94-2.06 2.06-.94-2.06-.94L8.5 2.5l-.94 2.06-2.06.94zm10 10l.94 2.06.94-2.06 2.06-.94-2.06-.94-.94-2.06-.94 2.06-2.06.94z\"/><path d=\"M17.41 7.96l-1.37-1.37c-.4-.4-.92-.59-1.43-.59-.52 0-1.04.2-1.43.59L10.3 9.45l-7.72 7.72c-.78.78-.78 2.05 0 2.83L4 21.41c.39.39.9.59 1.41.59.51 0 1.02-.2 1.41-.59l7.78-7.78 2.81-2.81c.8-.78.8-2.07 0-2.86zM5.41 20L4 18.59l7.72-7.72 1.47 1.35L5.41 20z\"/>\n",
              "  </svg>\n",
              "      </button>\n",
              "      \n",
              "  <style>\n",
              "    .colab-df-container {\n",
              "      display:flex;\n",
              "      flex-wrap:wrap;\n",
              "      gap: 12px;\n",
              "    }\n",
              "\n",
              "    .colab-df-convert {\n",
              "      background-color: #E8F0FE;\n",
              "      border: none;\n",
              "      border-radius: 50%;\n",
              "      cursor: pointer;\n",
              "      display: none;\n",
              "      fill: #1967D2;\n",
              "      height: 32px;\n",
              "      padding: 0 0 0 0;\n",
              "      width: 32px;\n",
              "    }\n",
              "\n",
              "    .colab-df-convert:hover {\n",
              "      background-color: #E2EBFA;\n",
              "      box-shadow: 0px 1px 2px rgba(60, 64, 67, 0.3), 0px 1px 3px 1px rgba(60, 64, 67, 0.15);\n",
              "      fill: #174EA6;\n",
              "    }\n",
              "\n",
              "    [theme=dark] .colab-df-convert {\n",
              "      background-color: #3B4455;\n",
              "      fill: #D2E3FC;\n",
              "    }\n",
              "\n",
              "    [theme=dark] .colab-df-convert:hover {\n",
              "      background-color: #434B5C;\n",
              "      box-shadow: 0px 1px 3px 1px rgba(0, 0, 0, 0.15);\n",
              "      filter: drop-shadow(0px 1px 2px rgba(0, 0, 0, 0.3));\n",
              "      fill: #FFFFFF;\n",
              "    }\n",
              "  </style>\n",
              "\n",
              "      <script>\n",
              "        const buttonEl =\n",
              "          document.querySelector('#df-c3c4a68f-1617-47b2-9256-51ca39f84e47 button.colab-df-convert');\n",
              "        buttonEl.style.display =\n",
              "          google.colab.kernel.accessAllowed ? 'block' : 'none';\n",
              "\n",
              "        async function convertToInteractive(key) {\n",
              "          const element = document.querySelector('#df-c3c4a68f-1617-47b2-9256-51ca39f84e47');\n",
              "          const dataTable =\n",
              "            await google.colab.kernel.invokeFunction('convertToInteractive',\n",
              "                                                     [key], {});\n",
              "          if (!dataTable) return;\n",
              "\n",
              "          const docLinkHtml = 'Like what you see? Visit the ' +\n",
              "            '<a target=\"_blank\" href=https://colab.research.google.com/notebooks/data_table.ipynb>data table notebook</a>'\n",
              "            + ' to learn more about interactive tables.';\n",
              "          element.innerHTML = '';\n",
              "          dataTable['output_type'] = 'display_data';\n",
              "          await google.colab.output.renderOutput(dataTable, element);\n",
              "          const docLink = document.createElement('div');\n",
              "          docLink.innerHTML = docLinkHtml;\n",
              "          element.appendChild(docLink);\n",
              "        }\n",
              "      </script>\n",
              "    </div>\n",
              "  </div>\n",
              "  "
            ]
          },
          "metadata": {},
          "execution_count": 10
        }
      ]
    },
    {
      "cell_type": "code",
      "metadata": {
        "colab": {
          "base_uri": "https://localhost:8080/",
          "height": 1000
        },
        "id": "c7W-jFSWTa8w",
        "outputId": "1e38fb5e-9987-4b77-9b17-d59214764d08"
      },
      "source": [
        "#Correlation heatmap\n",
        "plt.figure(figsize=(30,30))\n",
        "sns.heatmap(data.corr(),cmap=\"YlGnBu\", annot=True)\n",
        "plt.show()"
      ],
      "execution_count": null,
      "outputs": [
        {
          "output_type": "display_data",
          "data": {
            "text/plain": [
              "<Figure size 2160x2160 with 2 Axes>"
            ],
            "image/png": "[encoded data removed]"
          },
          "metadata": {}
        }
      ]
    },
    {
      "cell_type": "code",
      "metadata": {
        "id": "g_rYIeeNq7Fx",
        "colab": {
          "base_uri": "https://localhost:8080/"
        },
        "outputId": "2591bd72-d6ae-4d4e-a602-e417a2922258"
      },
      "source": [
        "data.rename(columns={'Result': 'Class'}, inplace=True)\n",
        "\n",
        "data['Class'] = data['Class'].map({-1:0, 1:1})\n",
        "data['Class'].unique()"
      ],
      "execution_count": null,
      "outputs": [
        {
          "output_type": "execute_result",
          "data": {
            "text/plain": [
              "array([0, 1])"
            ]
          },
          "metadata": {},
          "execution_count": 12
        }
      ]
    },
    {
      "cell_type": "code",
      "metadata": {
        "id": "cnYrqbvWq-t1",
        "colab": {
          "base_uri": "https://localhost:8080/"
        },
        "outputId": "1bb949d4-e2bd-4c9d-96e4-f821145b688d"
      },
      "source": [
        "data.isna().sum()\n"
      ],
      "execution_count": null,
      "outputs": [
        {
          "output_type": "execute_result",
          "data": {
            "text/plain": [
              "id                             0\n",
              "having_IP_Address              0\n",
              "URL_Length                     0\n",
              "Shortining_Service             0\n",
              "having_At_Symbol               0\n",
              "double_slash_redirecting       0\n",
              "Prefix_Suffix                  0\n",
              "having_Sub_Domain              0\n",
              "SSLfinal_State                 0\n",
              "Domain_registeration_length    0\n",
              "Favicon                        0\n",
              "port                           0\n",
              "HTTPS_token                    0\n",
              "Request_URL                    0\n",
              "URL_of_Anchor                  0\n",
              "Links_in_tags                  0\n",
              "SFH                            0\n",
              "Submitting_to_email            0\n",
              "Abnormal_URL                   0\n",
              "Redirect                       0\n",
              "on_mouseover                   0\n",
              "RightClick                     0\n",
              "popUpWidnow                    0\n",
              "Iframe                         0\n",
              "age_of_domain                  0\n",
              "DNSRecord                      0\n",
              "web_traffic                    0\n",
              "Page_Rank                      0\n",
              "Google_Index                   0\n",
              "Links_pointing_to_page         0\n",
              "Statistical_report             0\n",
              "Class                          0\n",
              "dtype: int64"
            ]
          },
          "metadata": {},
          "execution_count": 13
        }
      ]
    },
    {
      "cell_type": "code",
      "metadata": {
        "id": "E0rxOq7Tuhqi"
      },
      "source": [
        "from sklearn.model_selection import train_test_split\n",
        "import sklearn.linear_model as lm\n",
        "from sklearn import metrics\n",
        "from sklearn.linear_model import LogisticRegression\n",
        "from sklearn.ensemble import RandomForestClassifier\n",
        "from sklearn.tree import DecisionTreeClassifier\n",
        "from sklearn.metrics import accuracy_score\n",
        "from sklearn.metrics import accuracy_score\n",
        "from sklearn.naive_bayes import GaussianNB\n",
        "import time\n"
      ],
      "execution_count": null,
      "outputs": []
    },
    {
      "cell_type": "markdown",
      "metadata": {
        "id": "rMhCJu8wrC5E"
      },
      "source": [
        "**Data** Splitting\n"
      ]
    },
    {
      "cell_type": "code",
      "metadata": {
        "id": "1QbzAK6frAAz"
      },
      "source": [
        "from sklearn.feature_selection import SelectKBest\n",
        "from sklearn.feature_selection import f_classif\n",
        "\n",
        "X = data.iloc[:,0:30].values.astype(int)\n",
        "\n",
        "y = data.iloc[:,30].values.astype(int)\n",
        "\n",
        "X_train, X_test, y_train, y_test = train_test_split(X, y, test_size=0.2, random_state=np.random.seed(7))\n"
      ],
      "execution_count": null,
      "outputs": []
    },
    {
      "cell_type": "code",
      "metadata": {
        "id": "Hk1zidaHd94m",
        "colab": {
          "base_uri": "https://localhost:8080/",
          "height": 445
        },
        "outputId": "92300072-3e16-4639-d7d1-437ae8d5ff11"
      },
      "source": [
        "#checking the feature importance in the model to highlight which features may be most relevant to the target\n",
        "plt.figure(figsize=(9,7))\n",
        "n_features = X_train.shape[1]\n",
        "tree = DecisionTreeClassifier(max_depth = 5)\n",
        "tree.fit(X_train, y_train)\n",
        "plt.barh(range(n_features), tree.feature_importances_, align='center')\n",
        "plt.yticks(np.arange(n_features),data.columns)\n",
        "plt.xlabel(\"Feature importance\")\n",
        "plt.ylabel(\"Feature\")\n",
        "plt.show()"
      ],
      "execution_count": null,
      "outputs": [
        {
          "output_type": "display_data",
          "data": {
            "text/plain": [
              "<Figure size 648x504 with 1 Axes>"
            ],
            "image/png": "[encoded data removed]"
          },
          "metadata": {}
        }
      ]
    },
    {
      "cell_type": "code",
      "metadata": {
        "id": "TlVPx1XyrGJl"
      },
      "source": [
        "# Creating holders to store the model performance results\n",
        "ML_Model = []\n",
        "acc_model = []\n",
        "\n",
        "#function to call for storing the results\n",
        "def storeResults(model, a):\n",
        "  ML_Model.append(model)\n",
        "  acc_model.append(round(a, 3))"
      ],
      "execution_count": null,
      "outputs": []
    },
    {
      "cell_type": "markdown",
      "metadata": {
        "id": "YkhHXwSnUJX0"
      },
      "source": [
        "Naive Bayes"
      ]
    },
    {
      "cell_type": "code",
      "metadata": {
        "id": "QwOaJ5ZoT5IS",
        "colab": {
          "base_uri": "https://localhost:8080/"
        },
        "outputId": "976a0fd2-15ff-45f5-8146-eb4e21f3559f"
      },
      "source": [
        "modelNB = GaussianNB()\n",
        "modelNB.fit(X_train, y_train)"
      ],
      "execution_count": null,
      "outputs": [
        {
          "output_type": "execute_result",
          "data": {
            "text/plain": [
              "GaussianNB()"
            ]
          },
          "metadata": {},
          "execution_count": 18
        }
      ]
    },
    {
      "cell_type": "code",
      "metadata": {
        "id": "RlImznvfT6z2"
      },
      "source": [
        "y_test_mod = modelNB.predict(X_test)\n",
        "y_train_mod = modelNB.predict(X_train)\n",
        "acc_train_mod = accuracy_score(y_train,y_train_mod)\n",
        "acc_test_mod = accuracy_score(y_test,y_test_mod)"
      ],
      "execution_count": null,
      "outputs": []
    },
    {
      "cell_type": "code",
      "metadata": {
        "id": "vkEPtjUtT9Yh",
        "colab": {
          "base_uri": "https://localhost:8080/"
        },
        "outputId": "8424ef92-436f-46e4-bce2-473db5aae811"
      },
      "source": [
        "start = time.time()\n",
        "score = modelNB.score(X_test,y_test)\n",
        "print(\"Accuracy on model\",score)\n",
        "print(\"Naive bayes: Accuracy on training Data: {:.3f}\".format(acc_train_mod))\n",
        "print(\"Naive bayes: Accuracy on test Data: {:.3f}\".format(acc_test_mod))\n",
        "print(metrics.classification_report(y_test, y_test_mod))\n",
        "print(metrics.confusion_matrix(y_test, y_test_mod))\n",
        "end = time.time()\n",
        "print(\"Computational Time: \", (end-start))"
      ],
      "execution_count": null,
      "outputs": [
        {
          "output_type": "stream",
          "name": "stdout",
          "text": [
            "Accuracy on model 0.8172772501130711\n",
            "Naive bayes: Accuracy on training Data: 0.811\n",
            "Naive bayes: Accuracy on test Data: 0.817\n",
            "              precision    recall  f1-score   support\n",
            "\n",
            "          -1       0.38      0.58      0.46       296\n",
            "           1       0.93      0.85      0.89      1915\n",
            "\n",
            "    accuracy                           0.82      2211\n",
            "   macro avg       0.66      0.72      0.67      2211\n",
            "weighted avg       0.86      0.82      0.83      2211\n",
            "\n",
            "[[ 172  124]\n",
            " [ 280 1635]]\n",
            "Computational Time:  0.017652034759521484\n"
          ]
        }
      ]
    },
    {
      "cell_type": "code",
      "metadata": {
        "id": "YG0-iBJ-UAZn"
      },
      "source": [
        "storeResults('Naive Bayes',score)"
      ],
      "execution_count": null,
      "outputs": []
    },
    {
      "cell_type": "markdown",
      "metadata": {
        "id": "hY1Lsh1Hu300"
      },
      "source": [
        "Decision Tree Classifier\n"
      ]
    },
    {
      "cell_type": "code",
      "metadata": {
        "id": "hXqEbDbxuyQS"
      },
      "source": [
        "tree = DecisionTreeClassifier(max_depth = 5)\n",
        "tree.fit(X_train, y_train)\n",
        "y_train_tree=tree.predict(X_train)\n",
        "y_test_tree = tree.predict(X_test)"
      ],
      "execution_count": null,
      "outputs": []
    },
    {
      "cell_type": "code",
      "metadata": {
        "id": "n1Jt-VSku8ry",
        "colab": {
          "base_uri": "https://localhost:8080/"
        },
        "outputId": "57fd1469-ee26-4e93-a135-f92c63d0217b"
      },
      "source": [
        "start = time.time()\n",
        "tree_score = tree.score(X_test,y_test)\n",
        "acc_train_tree = accuracy_score(y_train,y_train_tree)\n",
        "acc_test_tree = accuracy_score(y_test,y_test_tree)\n",
        "print(\"Decision Tree: Accuracy on the Model: \",tree_score)\n",
        "print(\"Decision Tree: Accuracy on training Data: {:.3f}\".format(acc_train_tree))\n",
        "print(\"Decision Tree: Accuracy on test Data: {:.3f}\".format(acc_test_tree))\n",
        "print(metrics.classification_report(y_test, y_test_tree))\n",
        "print(metrics.confusion_matrix(y_test, y_test_tree))\n",
        "end = time.time()\n",
        "print(\"Computational Time: \", (end-start))"
      ],
      "execution_count": null,
      "outputs": [
        {
          "output_type": "stream",
          "name": "stdout",
          "text": [
            "Decision Tree: Accuracy on the Model:  0.9262777023971054\n",
            "Decision Tree: Accuracy on training Data: 0.928\n",
            "Decision Tree: Accuracy on test Data: 0.926\n",
            "              precision    recall  f1-score   support\n",
            "\n",
            "          -1       0.81      0.59      0.68       296\n",
            "           1       0.94      0.98      0.96      1915\n",
            "\n",
            "    accuracy                           0.93      2211\n",
            "   macro avg       0.87      0.78      0.82      2211\n",
            "weighted avg       0.92      0.93      0.92      2211\n",
            "\n",
            "[[ 175  121]\n",
            " [  42 1873]]\n",
            "Computational Time:  0.02016615867614746\n"
          ]
        }
      ]
    },
    {
      "cell_type": "code",
      "metadata": {
        "id": "VRBCdag8vA4C"
      },
      "source": [
        "storeResults('Decision Tree', tree_score)"
      ],
      "execution_count": null,
      "outputs": []
    },
    {
      "cell_type": "markdown",
      "metadata": {
        "id": "0fYSVWgLvLPG"
      },
      "source": [
        "*Random* Forest Classifier\n"
      ]
    },
    {
      "cell_type": "code",
      "metadata": {
        "id": "ogrmcC4uvIyl"
      },
      "source": [
        "\n",
        "forest = RandomForestClassifier(max_depth=5)\n",
        "forest.fit(X_train, y_train)\n",
        "y_test_forest = forest.predict(X_test)\n",
        "y_train_forest=forest.predict(X_train)"
      ],
      "execution_count": null,
      "outputs": []
    },
    {
      "cell_type": "code",
      "metadata": {
        "id": "fnNdIaxWvNS5",
        "colab": {
          "base_uri": "https://localhost:8080/"
        },
        "outputId": "006017aa-7211-4801-9516-c0fa383ab40c"
      },
      "source": [
        "start = time.time()\n",
        "forest_score = forest.score(X_test,y_test)\n",
        "acc_train_forest = accuracy_score(y_train,y_train_forest)\n",
        "acc_test_forest = accuracy_score(y_test,y_test_forest)\n",
        "print(\"Random forest: Accuracy on the Model: \",forest_score)\n",
        "print(\"Random forest: Accuracy on training Data: {:.3f}\".format(acc_train_forest))\n",
        "print(\"Random forest: Accuracy on test Data: {:.3f}\".format(acc_test_forest))\n",
        "print(metrics.classification_report(y_test, y_test_forest))\n",
        "print(metrics.confusion_matrix(y_test, y_test_forest))\n",
        "end = time.time()\n",
        "print(\"Computational Time: \", (end-start))"
      ],
      "execution_count": null,
      "outputs": [
        {
          "output_type": "stream",
          "name": "stdout",
          "text": [
            "Random forest: Accuracy on the Model:  0.9222071460877431\n",
            "Random forest: Accuracy on training Data: 0.919\n",
            "Random forest: Accuracy on test Data: 0.922\n",
            "              precision    recall  f1-score   support\n",
            "\n",
            "          -1       0.90      0.47      0.62       296\n",
            "           1       0.92      0.99      0.96      1915\n",
            "\n",
            "    accuracy                           0.92      2211\n",
            "   macro avg       0.91      0.73      0.79      2211\n",
            "weighted avg       0.92      0.92      0.91      2211\n",
            "\n",
            "[[ 140  156]\n",
            " [  16 1899]]\n",
            "Computational Time:  0.09153366088867188\n"
          ]
        }
      ]
    },
    {
      "cell_type": "code",
      "metadata": {
        "id": "BNI4eFURvRm1"
      },
      "source": [
        "storeResults('Random forest', forest_score)"
      ],
      "execution_count": null,
      "outputs": []
    },
    {
      "cell_type": "code",
      "metadata": {
        "id": "EutTsNdkesAf"
      },
      "source": [
        "#importing required packages\n",
        "import keras\n",
        "from keras.layers import Input, Dense\n",
        "from keras import regularizers\n",
        "import tensorflow as tf\n",
        "from keras.models import Model\n",
        "from sklearn import metrics\n",
        "from keras.models import Sequential\n",
        "from keras.layers import Dense,Dropout\n",
        "from keras.optimizers import *\n",
        "from tensorflow.keras.optimizers import Adam"
      ],
      "execution_count": null,
      "outputs": []
    },
    {
      "cell_type": "markdown",
      "metadata": {
        "id": "I_aGFq-5gP8b"
      },
      "source": [
        "#ANN\n"
      ]
    },
    {
      "cell_type": "code",
      "metadata": {
        "colab": {
          "base_uri": "https://localhost:8080/"
        },
        "id": "4chqyXMAev0_",
        "outputId": "6d08679d-012a-4460-f406-ab25dfdd5385"
      },
      "source": [
        "#building autoencoder model\n",
        "\n",
        "input_dim = X_train.shape[1]\n",
        "encoding_dim = input_dim\n",
        "\n",
        "input_layer = Input(shape=(input_dim, ))\n",
        "encoder = Dense(encoding_dim, activation=\"relu\",\n",
        "                activity_regularizer=regularizers.l1(10e-4))(input_layer)\n",
        "encoder = Dense(int(encoding_dim), activation=\"relu\")(encoder)\n",
        "\n",
        "encoder = Dense(int(encoding_dim-2), activation=\"relu\")(encoder)\n",
        "code = Dense(int(encoding_dim-4), activation='relu')(encoder)\n",
        "decoder = Dense(int(encoding_dim-2), activation='relu')(code)\n",
        "\n",
        "decoder = Dense(int(encoding_dim), activation='relu')(encoder)\n",
        "decoder = Dense(input_dim, activation='relu')(decoder)\n",
        "autoencoder = Model(inputs=input_layer, outputs=decoder)\n",
        "autoencoder.summary()"
      ],
      "execution_count": null,
      "outputs": [
        {
          "output_type": "stream",
          "name": "stdout",
          "text": [
            "Model: \"model\"\n",
            "_________________________________________________________________\n",
            " Layer (type)                Output Shape              Param #   \n",
            "=================================================================\n",
            " input_1 (InputLayer)        [(None, 30)]              0         \n",
            "                                                                 \n",
            " dense (Dense)               (None, 30)                930       \n",
            "                                                                 \n",
            " dense_1 (Dense)             (None, 30)                930       \n",
            "                                                                 \n",
            " dense_2 (Dense)             (None, 28)                868       \n",
            "                                                                 \n",
            " dense_5 (Dense)             (None, 30)                870       \n",
            "                                                                 \n",
            " dense_6 (Dense)             (None, 30)                930       \n",
            "                                                                 \n",
            "=================================================================\n",
            "Total params: 4,528\n",
            "Trainable params: 4,528\n",
            "Non-trainable params: 0\n",
            "_________________________________________________________________\n"
          ]
        }
      ]
    },
    {
      "cell_type": "code",
      "metadata": {
        "id": "Vlh6oidHfKgJ"
      },
      "source": [
        "model=Sequential()\n",
        "model.add(Dense(30,activation='relu'))\n",
        "model.add(Dense(18,activation='relu'))\n",
        "model.add(Dense(7,activation='relu'))\n",
        "model.add(Dense(1,activation='sigmoid'))\n",
        "model.compile(loss='binary_crossentropy',optimizer=Adam(lr=0.0001),metrics=['accuracy'])"
      ],
      "execution_count": null,
      "outputs": []
    },
    {
      "cell_type": "code",
      "metadata": {
        "colab": {
          "base_uri": "https://localhost:8080/"
        },
        "id": "ArRxNi5DfOid",
        "outputId": "95b4db12-4024-41ee-c407-5388a6a0f47f"
      },
      "source": [
        "model.fit(X_train,y_train,epochs=50)"
      ],
      "execution_count": null,
      "outputs": [
        {
          "output_type": "stream",
          "name": "stdout",
          "text": [
            "Epoch 1/50\n",
            "277/277 [==============================] - 2s 3ms/step - loss: 4.4464 - accuracy: 0.7808\n",
            "Epoch 2/50\n",
            "277/277 [==============================] - 1s 3ms/step - loss: 0.6178 - accuracy: 0.7714\n",
            "Epoch 3/50\n",
            "277/277 [==============================] - 1s 2ms/step - loss: 0.6006 - accuracy: 0.7640\n",
            "Epoch 4/50\n",
            "277/277 [==============================] - 1s 3ms/step - loss: 0.5942 - accuracy: 0.7710\n",
            "Epoch 5/50\n",
            "277/277 [==============================] - 1s 3ms/step - loss: 0.5731 - accuracy: 0.7769\n",
            "Epoch 6/50\n",
            "277/277 [==============================] - 1s 2ms/step - loss: 0.5923 - accuracy: 0.7640\n",
            "Epoch 7/50\n",
            "277/277 [==============================] - 1s 3ms/step - loss: 0.5128 - accuracy: 0.7783\n",
            "Epoch 8/50\n",
            "277/277 [==============================] - 1s 3ms/step - loss: 0.5107 - accuracy: 0.7719\n",
            "Epoch 9/50\n",
            "277/277 [==============================] - 1s 3ms/step - loss: 0.5687 - accuracy: 0.7586\n",
            "Epoch 10/50\n",
            "277/277 [==============================] - 1s 3ms/step - loss: 0.4939 - accuracy: 0.7689\n",
            "Epoch 11/50\n",
            "277/277 [==============================] - 1s 2ms/step - loss: 0.4760 - accuracy: 0.7767\n",
            "Epoch 12/50\n",
            "277/277 [==============================] - 1s 2ms/step - loss: 0.4467 - accuracy: 0.7785\n",
            "Epoch 13/50\n",
            "277/277 [==============================] - 1s 2ms/step - loss: 0.6090 - accuracy: 0.7479\n",
            "Epoch 14/50\n",
            "277/277 [==============================] - 1s 3ms/step - loss: 0.4769 - accuracy: 0.7670\n",
            "Epoch 15/50\n",
            "277/277 [==============================] - 1s 3ms/step - loss: 0.5012 - accuracy: 0.7616\n",
            "Epoch 16/50\n",
            "277/277 [==============================] - 1s 3ms/step - loss: 0.4814 - accuracy: 0.7632\n",
            "Epoch 17/50\n",
            "277/277 [==============================] - 1s 3ms/step - loss: 0.4825 - accuracy: 0.7614\n",
            "Epoch 18/50\n",
            "277/277 [==============================] - 1s 3ms/step - loss: 0.4566 - accuracy: 0.7606\n",
            "Epoch 19/50\n",
            "277/277 [==============================] - 1s 2ms/step - loss: 0.4592 - accuracy: 0.7595\n",
            "Epoch 20/50\n",
            "277/277 [==============================] - 1s 2ms/step - loss: 0.4990 - accuracy: 0.7527\n",
            "Epoch 21/50\n",
            "277/277 [==============================] - 1s 2ms/step - loss: 0.5005 - accuracy: 0.7469\n",
            "Epoch 22/50\n",
            "277/277 [==============================] - 1s 2ms/step - loss: 0.5069 - accuracy: 0.7506\n",
            "Epoch 23/50\n",
            "277/277 [==============================] - 1s 2ms/step - loss: 0.4040 - accuracy: 0.7596\n",
            "Epoch 24/50\n",
            "277/277 [==============================] - 1s 2ms/step - loss: 0.5631 - accuracy: 0.7347\n",
            "Epoch 25/50\n",
            "277/277 [==============================] - 1s 3ms/step - loss: 0.4367 - accuracy: 0.7473\n",
            "Epoch 26/50\n",
            "277/277 [==============================] - 1s 3ms/step - loss: 0.4401 - accuracy: 0.7509\n",
            "Epoch 27/50\n",
            "277/277 [==============================] - 1s 2ms/step - loss: 0.3969 - accuracy: 0.7566\n",
            "Epoch 28/50\n",
            "277/277 [==============================] - 1s 3ms/step - loss: 0.3757 - accuracy: 0.7549\n",
            "Epoch 29/50\n",
            "277/277 [==============================] - 1s 2ms/step - loss: 0.4376 - accuracy: 0.7479\n",
            "Epoch 30/50\n",
            "277/277 [==============================] - 1s 2ms/step - loss: 0.4928 - accuracy: 0.7424\n",
            "Epoch 31/50\n",
            "277/277 [==============================] - 1s 2ms/step - loss: 0.4534 - accuracy: 0.7454\n",
            "Epoch 32/50\n",
            "277/277 [==============================] - 1s 2ms/step - loss: 0.5208 - accuracy: 0.7428\n",
            "Epoch 33/50\n",
            "277/277 [==============================] - 1s 2ms/step - loss: 0.3810 - accuracy: 0.7485\n",
            "Epoch 34/50\n",
            "277/277 [==============================] - 1s 3ms/step - loss: 0.3999 - accuracy: 0.7462\n",
            "Epoch 35/50\n",
            "277/277 [==============================] - 1s 2ms/step - loss: 0.3658 - accuracy: 0.7473\n",
            "Epoch 36/50\n",
            "277/277 [==============================] - 1s 2ms/step - loss: 0.4466 - accuracy: 0.7400\n",
            "Epoch 37/50\n",
            "277/277 [==============================] - 1s 2ms/step - loss: 0.3848 - accuracy: 0.7427\n",
            "Epoch 38/50\n",
            "277/277 [==============================] - 1s 2ms/step - loss: 0.4076 - accuracy: 0.7446\n",
            "Epoch 39/50\n",
            "277/277 [==============================] - 1s 2ms/step - loss: 0.4645 - accuracy: 0.7343\n",
            "Epoch 40/50\n",
            "277/277 [==============================] - 1s 2ms/step - loss: 0.4036 - accuracy: 0.7411\n",
            "Epoch 41/50\n",
            "277/277 [==============================] - 1s 2ms/step - loss: 0.4732 - accuracy: 0.7337\n",
            "Epoch 42/50\n",
            "277/277 [==============================] - 1s 2ms/step - loss: 0.3970 - accuracy: 0.7414\n",
            "Epoch 43/50\n",
            "277/277 [==============================] - 1s 2ms/step - loss: 0.3418 - accuracy: 0.7417\n",
            "Epoch 44/50\n",
            "277/277 [==============================] - 1s 3ms/step - loss: 0.3547 - accuracy: 0.7439\n",
            "Epoch 45/50\n",
            "277/277 [==============================] - 1s 2ms/step - loss: 0.4225 - accuracy: 0.7351\n",
            "Epoch 46/50\n",
            "277/277 [==============================] - 1s 2ms/step - loss: 0.4623 - accuracy: 0.7328\n",
            "Epoch 47/50\n",
            "277/277 [==============================] - 1s 2ms/step - loss: 0.5092 - accuracy: 0.7321\n",
            "Epoch 48/50\n",
            "277/277 [==============================] - 1s 3ms/step - loss: 0.3698 - accuracy: 0.7386\n",
            "Epoch 49/50\n",
            "277/277 [==============================] - 1s 3ms/step - loss: 0.3519 - accuracy: 0.7334\n",
            "Epoch 50/50\n",
            "277/277 [==============================] - 1s 3ms/step - loss: 0.3446 - accuracy: 0.7389\n"
          ]
        },
        {
          "output_type": "execute_result",
          "data": {
            "text/plain": [
              "<keras.callbacks.History at 0x7f859ac524d0>"
            ]
          },
          "metadata": {},
          "execution_count": 28
        }
      ]
    },
    {
      "cell_type": "code",
      "metadata": {
        "colab": {
          "base_uri": "https://localhost:8080/"
        },
        "id": "T1qA-D2ffRA1",
        "outputId": "1726cc2e-d2b7-4a9d-dac3-09082a57036f"
      },
      "source": [
        "model.summary()"
      ],
      "execution_count": null,
      "outputs": [
        {
          "output_type": "stream",
          "name": "stdout",
          "text": [
            "Model: \"sequential\"\n",
            "_________________________________________________________________\n",
            " Layer (type)                Output Shape              Param #   \n",
            "=================================================================\n",
            " dense_7 (Dense)             (None, 30)                930       \n",
            "                                                                 \n",
            " dense_8 (Dense)             (None, 18)                558       \n",
            "                                                                 \n",
            " dense_9 (Dense)             (None, 7)                 133       \n",
            "                                                                 \n",
            " dense_10 (Dense)            (None, 1)                 8         \n",
            "                                                                 \n",
            "=================================================================\n",
            "Total params: 1,629\n",
            "Trainable params: 1,629\n",
            "Non-trainable params: 0\n",
            "_________________________________________________________________\n"
          ]
        }
      ]
    },
    {
      "cell_type": "code",
      "metadata": {
        "colab": {
          "base_uri": "https://localhost:8080/"
        },
        "id": "x1IrzuFJfXCB",
        "outputId": "89b01f90-f0f9-4333-f6d1-f7adcad6a35e"
      },
      "source": [
        "pr= model.predict(X_test)\n",
        "accuracy=accuracy_score(y_test,np.round(abs(pr)))\n",
        "print('The accuracy of ANN is:', accuracy)\n",
        "print(metrics.classification_report(y_test,np.round(abs(pr))))"
      ],
      "execution_count": null,
      "outputs": [
        {
          "output_type": "stream",
          "name": "stdout",
          "text": [
            "The accuracy of ANN is: 0.6304839439167798\n",
            "              precision    recall  f1-score   support\n",
            "\n",
            "        -1.0       0.00      0.00      0.00       314\n",
            "         0.0       0.00      0.00      0.00         0\n",
            "         1.0       0.94      0.73      0.82      1897\n",
            "\n",
            "    accuracy                           0.63      2211\n",
            "   macro avg       0.31      0.24      0.27      2211\n",
            "weighted avg       0.81      0.63      0.71      2211\n",
            "\n"
          ]
        }
      ]
    },
    {
      "cell_type": "code",
      "metadata": {
        "id": "igSOEwPHfX0s"
      },
      "source": [
        "storeResults('ANN', accuracy)"
      ],
      "execution_count": null,
      "outputs": []
    },
    {
      "cell_type": "markdown",
      "metadata": {
        "id": "YvFnYgbphOMz"
      },
      "source": [
        "#CNN"
      ]
    },
    {
      "cell_type": "code",
      "metadata": {
        "id": "nB1ihWmqhP_P"
      },
      "source": [
        "from sklearn.preprocessing import StandardScaler\n",
        "from tensorflow.keras import Sequential\n",
        "from tensorflow.keras.layers import Flatten, Dense, Dropout, BatchNormalization\n",
        "from tensorflow.keras.layers import Conv1D, MaxPool1D\n",
        "from tensorflow.keras.optimizers import Adam"
      ],
      "execution_count": null,
      "outputs": []
    },
    {
      "cell_type": "code",
      "metadata": {
        "id": "CzkeMy1NhTvx"
      },
      "source": [
        "slr = StandardScaler()\n",
        "X_train_transformed = slr.fit_transform(X_train)\n",
        "X_test_transformed = slr.transform(X_test)"
      ],
      "execution_count": null,
      "outputs": []
    },
    {
      "cell_type": "code",
      "metadata": {
        "id": "7LjphE_HhWgN"
      },
      "source": [
        "Y_train = np.array(y_train)\n",
        "Y_test=np.array(y_test)"
      ],
      "execution_count": null,
      "outputs": []
    },
    {
      "cell_type": "code",
      "metadata": {
        "id": "3Wfz_pw-hYL4"
      },
      "source": [
        "X_train_transformed = X_train_transformed.reshape(X_train_transformed.shape[0], X_train_transformed.shape[1], 1)\n",
        "X_test_transformed = X_test_transformed.reshape(X_test_transformed.shape[0], X_test_transformed.shape[1], 1)"
      ],
      "execution_count": null,
      "outputs": []
    },
    {
      "cell_type": "code",
      "metadata": {
        "id": "ESVgvc7bhaRG"
      },
      "source": [
        "epochs = 20\n",
        "cnn_model = Sequential()\n",
        "cnn_model.add(Conv1D(32, 2, activation='relu', input_shape = X_train_transformed[0].shape))\n",
        "cnn_model.add(BatchNormalization())\n",
        "cnn_model.add(Dropout(0.2))\n",
        "\n",
        "cnn_model.add(Conv1D(64, 2, activation='relu'))\n",
        "cnn_model.add(BatchNormalization())\n",
        "cnn_model.add(Dropout(0.5))\n",
        "\n",
        "cnn_model.add(Flatten())\n",
        "cnn_model.add(Dense(64, activation='relu'))\n",
        "cnn_model.add(Dropout(0.5))\n",
        "\n",
        "cnn_model.add(Dense(1, activation='sigmoid'))"
      ],
      "execution_count": null,
      "outputs": []
    },
    {
      "cell_type": "code",
      "metadata": {
        "colab": {
          "base_uri": "https://localhost:8080/"
        },
        "id": "LAqu-sPrhcda",
        "outputId": "507b6188-e81b-471e-a8fa-e30d3c052efb"
      },
      "source": [
        "cnn_model.summary()"
      ],
      "execution_count": null,
      "outputs": [
        {
          "output_type": "stream",
          "name": "stdout",
          "text": [
            "Model: \"sequential_1\"\n",
            "_________________________________________________________________\n",
            " Layer (type)                Output Shape              Param #   \n",
            "=================================================================\n",
            " conv1d (Conv1D)             (None, 29, 32)            96        \n",
            "                                                                 \n",
            " batch_normalization (BatchN  (None, 29, 32)           128       \n",
            " ormalization)                                                   \n",
            "                                                                 \n",
            " dropout (Dropout)           (None, 29, 32)            0         \n",
            "                                                                 \n",
            " conv1d_1 (Conv1D)           (None, 28, 64)            4160      \n",
            "                                                                 \n",
            " batch_normalization_1 (Batc  (None, 28, 64)           256       \n",
            " hNormalization)                                                 \n",
            "                                                                 \n",
            " dropout_1 (Dropout)         (None, 28, 64)            0         \n",
            "                                                                 \n",
            " flatten (Flatten)           (None, 1792)              0         \n",
            "                                                                 \n",
            " dense_11 (Dense)            (None, 64)                114752    \n",
            "                                                                 \n",
            " dropout_2 (Dropout)         (None, 64)                0         \n",
            "                                                                 \n",
            " dense_12 (Dense)            (None, 1)                 65        \n",
            "                                                                 \n",
            "=================================================================\n",
            "Total params: 119,457\n",
            "Trainable params: 119,265\n",
            "Non-trainable params: 192\n",
            "_________________________________________________________________\n"
          ]
        }
      ]
    },
    {
      "cell_type": "code",
      "metadata": {
        "id": "4bVtaaxjhe_v"
      },
      "source": [
        "cnn_model.compile(optimizer=Adam(lr=0.0001), loss = 'binary_crossentropy', metrics=['accuracy'])"
      ],
      "execution_count": null,
      "outputs": []
    },
    {
      "cell_type": "code",
      "metadata": {
        "colab": {
          "base_uri": "https://localhost:8080/"
        },
        "id": "ZjQmlbLmhh6u",
        "outputId": "04ac8240-2578-4796-c1e2-49718d168482"
      },
      "source": [
        "history = cnn_model.fit(X_train_transformed, Y_train, epochs=epochs, validation_data=(X_test_transformed, Y_test), verbose=1)"
      ],
      "execution_count": null,
      "outputs": [
        {
          "output_type": "stream",
          "name": "stdout",
          "text": [
            "Epoch 1/20\n",
            "277/277 [==============================] - 5s 12ms/step - loss: 0.6309 - accuracy: 0.5901 - val_loss: 0.2166 - val_accuracy: 0.7847\n",
            "Epoch 2/20\n",
            "277/277 [==============================] - 3s 12ms/step - loss: 0.1049 - accuracy: 0.6935 - val_loss: -0.3360 - val_accuracy: 0.7861\n",
            "Epoch 3/20\n",
            "277/277 [==============================] - 3s 11ms/step - loss: -0.4415 - accuracy: 0.7058 - val_loss: -1.0107 - val_accuracy: 0.7739\n",
            "Epoch 4/20\n",
            "277/277 [==============================] - 3s 11ms/step - loss: -1.2421 - accuracy: 0.7066 - val_loss: -1.9018 - val_accuracy: 0.7675\n",
            "Epoch 5/20\n",
            "277/277 [==============================] - 3s 12ms/step - loss: -2.1977 - accuracy: 0.7129 - val_loss: -2.9690 - val_accuracy: 0.7734\n",
            "Epoch 6/20\n",
            "277/277 [==============================] - 3s 12ms/step - loss: -3.6363 - accuracy: 0.7226 - val_loss: -4.4842 - val_accuracy: 0.7662\n",
            "Epoch 7/20\n",
            "277/277 [==============================] - 3s 11ms/step - loss: -5.4180 - accuracy: 0.7203 - val_loss: -6.3215 - val_accuracy: 0.7567\n",
            "Epoch 8/20\n",
            "277/277 [==============================] - 3s 12ms/step - loss: -7.4465 - accuracy: 0.7212 - val_loss: -8.3623 - val_accuracy: 0.7585\n",
            "Epoch 9/20\n",
            "277/277 [==============================] - 3s 11ms/step - loss: -9.8248 - accuracy: 0.7265 - val_loss: -10.7600 - val_accuracy: 0.7544\n",
            "Epoch 10/20\n",
            "277/277 [==============================] - 3s 11ms/step - loss: -12.6455 - accuracy: 0.7272 - val_loss: -13.5875 - val_accuracy: 0.7440\n",
            "Epoch 11/20\n",
            "277/277 [==============================] - 3s 11ms/step - loss: -15.1582 - accuracy: 0.7287 - val_loss: -16.5931 - val_accuracy: 0.7594\n",
            "Epoch 12/20\n",
            "277/277 [==============================] - 3s 11ms/step - loss: -18.7812 - accuracy: 0.7316 - val_loss: -20.0728 - val_accuracy: 0.7576\n",
            "Epoch 13/20\n",
            "277/277 [==============================] - 3s 11ms/step - loss: -23.2607 - accuracy: 0.7311 - val_loss: -23.8006 - val_accuracy: 0.7377\n",
            "Epoch 14/20\n",
            "277/277 [==============================] - 3s 11ms/step - loss: -26.6432 - accuracy: 0.7324 - val_loss: -27.9328 - val_accuracy: 0.7553\n",
            "Epoch 15/20\n",
            "277/277 [==============================] - 3s 12ms/step - loss: -32.5782 - accuracy: 0.7320 - val_loss: -32.9235 - val_accuracy: 0.7395\n",
            "Epoch 16/20\n",
            "277/277 [==============================] - 3s 10ms/step - loss: -37.3646 - accuracy: 0.7309 - val_loss: -37.8229 - val_accuracy: 0.7304\n",
            "Epoch 17/20\n",
            "277/277 [==============================] - 3s 11ms/step - loss: -43.3272 - accuracy: 0.7227 - val_loss: -43.3589 - val_accuracy: 0.7408\n",
            "Epoch 18/20\n",
            "277/277 [==============================] - 3s 12ms/step - loss: -48.6815 - accuracy: 0.7346 - val_loss: -49.4519 - val_accuracy: 0.7413\n",
            "Epoch 19/20\n",
            "277/277 [==============================] - 3s 12ms/step - loss: -53.7714 - accuracy: 0.7300 - val_loss: -55.4296 - val_accuracy: 0.7390\n",
            "Epoch 20/20\n",
            "277/277 [==============================] - 3s 12ms/step - loss: -63.2849 - accuracy: 0.7373 - val_loss: -62.1735 - val_accuracy: 0.7395\n"
          ]
        }
      ]
    },
    {
      "cell_type": "code",
      "metadata": {
        "colab": {
          "base_uri": "https://localhost:8080/"
        },
        "id": "3T5zf3gnhj2E",
        "outputId": "07506b41-cb81-4edf-ed7d-05eb684b46a8"
      },
      "source": [
        "cnn_pred=cnn_model.predict(X_test_transformed)\n",
        "cnn_accuracy_new=accuracy_score(Y_test,np.round(abs(cnn_pred)))\n",
        "print('The accuracy of CNN without GA Based feature selection is:', cnn_accuracy_new)\n",
        "print(metrics.classification_report(Y_test,np.round(abs(cnn_pred))))"
      ],
      "execution_count": null,
      "outputs": [
        {
          "output_type": "stream",
          "name": "stdout",
          "text": [
            "The accuracy of CNN without GA Based feature selection is: 0.7394843962008141\n",
            "              precision    recall  f1-score   support\n",
            "\n",
            "        -1.0       0.00      0.00      0.00       314\n",
            "         0.0       0.00      0.00      0.00         0\n",
            "         1.0       0.94      0.86      0.90      1897\n",
            "\n",
            "    accuracy                           0.74      2211\n",
            "   macro avg       0.31      0.29      0.30      2211\n",
            "weighted avg       0.81      0.74      0.77      2211\n",
            "\n"
          ]
        }
      ]
    },
    {
      "cell_type": "code",
      "metadata": {
        "id": "mQMyN1IrjoHM"
      },
      "source": [
        "storeResults('CNN',cnn_accuracy_new)"
      ],
      "execution_count": null,
      "outputs": []
    },
    {
      "cell_type": "code",
      "metadata": {
        "id": "C2VocBVIvqaY",
        "colab": {
          "base_uri": "https://localhost:8080/",
          "height": 206
        },
        "outputId": "7541d35e-6d2c-43f3-95b7-cd2eaa385765"
      },
      "source": [
        "\n",
        "results = pd.DataFrame({ 'ML Model': ML_Model,    \n",
        "    'Model Accuracy': acc_model})\n",
        "results"
      ],
      "execution_count": null,
      "outputs": [
        {
          "output_type": "execute_result",
          "data": {
            "text/plain": [
              "        ML Model  Model Accuracy\n",
              "0    Naive Bayes           0.816\n",
              "1  Decision Tree           0.923\n",
              "2  Random forest           0.907\n",
              "3            ANN           0.630\n",
              "4            CNN           0.739"
            ],
            "text/html": [
              "\n",
              "  <div id=\"df-91fd573d-a754-4981-8cbb-e410894ad8b5\">\n",
              "    <div class=\"colab-df-container\">\n",
              "      <div>\n",
              "<style scoped>\n",
              "    .dataframe tbody tr th:only-of-type {\n",
              "        vertical-align: middle;\n",
              "    }\n",
              "\n",
              "    .dataframe tbody tr th {\n",
              "        vertical-align: top;\n",
              "    }\n",
              "\n",
              "    .dataframe thead th {\n",
              "        text-align: right;\n",
              "    }\n",
              "</style>\n",
              "<table border=\"1\" class=\"dataframe\">\n",
              "  <thead>\n",
              "    <tr style=\"text-align: right;\">\n",
              "      <th></th>\n",
              "      <th>ML Model</th>\n",
              "      <th>Model Accuracy</th>\n",
              "    </tr>\n",
              "  </thead>\n",
              "  <tbody>\n",
              "    <tr>\n",
              "      <th>0</th>\n",
              "      <td>Naive Bayes</td>\n",
              "      <td>0.816</td>\n",
              "    </tr>\n",
              "    <tr>\n",
              "      <th>1</th>\n",
              "      <td>Decision Tree</td>\n",
              "      <td>0.923</td>\n",
              "    </tr>\n",
              "    <tr>\n",
              "      <th>2</th>\n",
              "      <td>Random forest</td>\n",
              "      <td>0.907</td>\n",
              "    </tr>\n",
              "    <tr>\n",
              "      <th>3</th>\n",
              "      <td>ANN</td>\n",
              "      <td>0.630</td>\n",
              "    </tr>\n",
              "    <tr>\n",
              "      <th>4</th>\n",
              "      <td>CNN</td>\n",
              "      <td>0.739</td>\n",
              "    </tr>\n",
              "  </tbody>\n",
              "</table>\n",
              "</div>\n",
              "      <button class=\"colab-df-convert\" onclick=\"convertToInteractive('df-91fd573d-a754-4981-8cbb-e410894ad8b5')\"\n",
              "              title=\"Convert this dataframe to an interactive table.\"\n",
              "              style=\"display:none;\">\n",
              "        \n",
              "  <svg xmlns=\"http://www.w3.org/2000/svg\" height=\"24px\"viewBox=\"0 0 24 24\"\n",
              "       width=\"24px\">\n",
              "    <path d=\"M0 0h24v24H0V0z\" fill=\"none\"/>\n",
              "    <path d=\"M18.56 5.44l.94 2.06.94-2.06 2.06-.94-2.06-.94-.94-2.06-.94 2.06-2.06.94zm-11 1L8.5 8.5l.94-2.06 2.06-.94-2.06-.94L8.5 2.5l-.94 2.06-2.06.94zm10 10l.94 2.06.94-2.06 2.06-.94-2.06-.94-.94-2.06-.94 2.06-2.06.94z\"/><path d=\"M17.41 7.96l-1.37-1.37c-.4-.4-.92-.59-1.43-.59-.52 0-1.04.2-1.43.59L10.3 9.45l-7.72 7.72c-.78.78-.78 2.05 0 2.83L4 21.41c.39.39.9.59 1.41.59.51 0 1.02-.2 1.41-.59l7.78-7.78 2.81-2.81c.8-.78.8-2.07 0-2.86zM5.41 20L4 18.59l7.72-7.72 1.47 1.35L5.41 20z\"/>\n",
              "  </svg>\n",
              "      </button>\n",
              "      \n",
              "  <style>\n",
              "    .colab-df-container {\n",
              "      display:flex;\n",
              "      flex-wrap:wrap;\n",
              "      gap: 12px;\n",
              "    }\n",
              "\n",
              "    .colab-df-convert {\n",
              "      background-color: #E8F0FE;\n",
              "      border: none;\n",
              "      border-radius: 50%;\n",
              "      cursor: pointer;\n",
              "      display: none;\n",
              "      fill: #1967D2;\n",
              "      height: 32px;\n",
              "      padding: 0 0 0 0;\n",
              "      width: 32px;\n",
              "    }\n",
              "\n",
              "    .colab-df-convert:hover {\n",
              "      background-color: #E2EBFA;\n",
              "      box-shadow: 0px 1px 2px rgba(60, 64, 67, 0.3), 0px 1px 3px 1px rgba(60, 64, 67, 0.15);\n",
              "      fill: #174EA6;\n",
              "    }\n",
              "\n",
              "    [theme=dark] .colab-df-convert {\n",
              "      background-color: #3B4455;\n",
              "      fill: #D2E3FC;\n",
              "    }\n",
              "\n",
              "    [theme=dark] .colab-df-convert:hover {\n",
              "      background-color: #434B5C;\n",
              "      box-shadow: 0px 1px 3px 1px rgba(0, 0, 0, 0.15);\n",
              "      filter: drop-shadow(0px 1px 2px rgba(0, 0, 0, 0.3));\n",
              "      fill: #FFFFFF;\n",
              "    }\n",
              "  </style>\n",
              "\n",
              "      <script>\n",
              "        const buttonEl =\n",
              "          document.querySelector('#df-91fd573d-a754-4981-8cbb-e410894ad8b5 button.colab-df-convert');\n",
              "        buttonEl.style.display =\n",
              "          google.colab.kernel.accessAllowed ? 'block' : 'none';\n",
              "\n",
              "        async function convertToInteractive(key) {\n",
              "          const element = document.querySelector('#df-91fd573d-a754-4981-8cbb-e410894ad8b5');\n",
              "          const dataTable =\n",
              "            await google.colab.kernel.invokeFunction('convertToInteractive',\n",
              "                                                     [key], {});\n",
              "          if (!dataTable) return;\n",
              "\n",
              "          const docLinkHtml = 'Like what you see? Visit the ' +\n",
              "            '<a target=\"_blank\" href=https://colab.research.google.com/notebooks/data_table.ipynb>data table notebook</a>'\n",
              "            + ' to learn more about interactive tables.';\n",
              "          element.innerHTML = '';\n",
              "          dataTable['output_type'] = 'display_data';\n",
              "          await google.colab.output.renderOutput(dataTable, element);\n",
              "          const docLink = document.createElement('div');\n",
              "          docLink.innerHTML = docLinkHtml;\n",
              "          element.appendChild(docLink);\n",
              "        }\n",
              "      </script>\n",
              "    </div>\n",
              "  </div>\n",
              "  "
            ]
          },
          "metadata": {},
          "execution_count": 42
        }
      ]
    },
    {
      "cell_type": "code",
      "metadata": {
        "id": "Mavdv6kCvrkn",
        "colab": {
          "base_uri": "https://localhost:8080/",
          "height": 206
        },
        "outputId": "b411a17c-d10f-4cde-8295-18b0f5056c4a"
      },
      "source": [
        "\n",
        "results.sort_values(by=['Model Accuracy'], ascending=False)"
      ],
      "execution_count": null,
      "outputs": [
        {
          "output_type": "execute_result",
          "data": {
            "text/plain": [
              "        ML Model  Model Accuracy\n",
              "1  Decision Tree           0.923\n",
              "2  Random forest           0.907\n",
              "0    Naive Bayes           0.816\n",
              "4            CNN           0.739\n",
              "3            ANN           0.630"
            ],
            "text/html": [
              "\n",
              "  <div id=\"df-9dd62951-d0ef-47fc-9e67-580d7848e100\">\n",
              "    <div class=\"colab-df-container\">\n",
              "      <div>\n",
              "<style scoped>\n",
              "    .dataframe tbody tr th:only-of-type {\n",
              "        vertical-align: middle;\n",
              "    }\n",
              "\n",
              "    .dataframe tbody tr th {\n",
              "        vertical-align: top;\n",
              "    }\n",
              "\n",
              "    .dataframe thead th {\n",
              "        text-align: right;\n",
              "    }\n",
              "</style>\n",
              "<table border=\"1\" class=\"dataframe\">\n",
              "  <thead>\n",
              "    <tr style=\"text-align: right;\">\n",
              "      <th></th>\n",
              "      <th>ML Model</th>\n",
              "      <th>Model Accuracy</th>\n",
              "    </tr>\n",
              "  </thead>\n",
              "  <tbody>\n",
              "    <tr>\n",
              "      <th>1</th>\n",
              "      <td>Decision Tree</td>\n",
              "      <td>0.923</td>\n",
              "    </tr>\n",
              "    <tr>\n",
              "      <th>2</th>\n",
              "      <td>Random forest</td>\n",
              "      <td>0.907</td>\n",
              "    </tr>\n",
              "    <tr>\n",
              "      <th>0</th>\n",
              "      <td>Naive Bayes</td>\n",
              "      <td>0.816</td>\n",
              "    </tr>\n",
              "    <tr>\n",
              "      <th>4</th>\n",
              "      <td>CNN</td>\n",
              "      <td>0.739</td>\n",
              "    </tr>\n",
              "    <tr>\n",
              "      <th>3</th>\n",
              "      <td>ANN</td>\n",
              "      <td>0.630</td>\n",
              "    </tr>\n",
              "  </tbody>\n",
              "</table>\n",
              "</div>\n",
              "      <button class=\"colab-df-convert\" onclick=\"convertToInteractive('df-9dd62951-d0ef-47fc-9e67-580d7848e100')\"\n",
              "              title=\"Convert this dataframe to an interactive table.\"\n",
              "              style=\"display:none;\">\n",
              "        \n",
              "  <svg xmlns=\"http://www.w3.org/2000/svg\" height=\"24px\"viewBox=\"0 0 24 24\"\n",
              "       width=\"24px\">\n",
              "    <path d=\"M0 0h24v24H0V0z\" fill=\"none\"/>\n",
              "    <path d=\"M18.56 5.44l.94 2.06.94-2.06 2.06-.94-2.06-.94-.94-2.06-.94 2.06-2.06.94zm-11 1L8.5 8.5l.94-2.06 2.06-.94-2.06-.94L8.5 2.5l-.94 2.06-2.06.94zm10 10l.94 2.06.94-2.06 2.06-.94-2.06-.94-.94-2.06-.94 2.06-2.06.94z\"/><path d=\"M17.41 7.96l-1.37-1.37c-.4-.4-.92-.59-1.43-.59-.52 0-1.04.2-1.43.59L10.3 9.45l-7.72 7.72c-.78.78-.78 2.05 0 2.83L4 21.41c.39.39.9.59 1.41.59.51 0 1.02-.2 1.41-.59l7.78-7.78 2.81-2.81c.8-.78.8-2.07 0-2.86zM5.41 20L4 18.59l7.72-7.72 1.47 1.35L5.41 20z\"/>\n",
              "  </svg>\n",
              "      </button>\n",
              "      \n",
              "  <style>\n",
              "    .colab-df-container {\n",
              "      display:flex;\n",
              "      flex-wrap:wrap;\n",
              "      gap: 12px;\n",
              "    }\n",
              "\n",
              "    .colab-df-convert {\n",
              "      background-color: #E8F0FE;\n",
              "      border: none;\n",
              "      border-radius: 50%;\n",
              "      cursor: pointer;\n",
              "      display: none;\n",
              "      fill: #1967D2;\n",
              "      height: 32px;\n",
              "      padding: 0 0 0 0;\n",
              "      width: 32px;\n",
              "    }\n",
              "\n",
              "    .colab-df-convert:hover {\n",
              "      background-color: #E2EBFA;\n",
              "      box-shadow: 0px 1px 2px rgba(60, 64, 67, 0.3), 0px 1px 3px 1px rgba(60, 64, 67, 0.15);\n",
              "      fill: #174EA6;\n",
              "    }\n",
              "\n",
              "    [theme=dark] .colab-df-convert {\n",
              "      background-color: #3B4455;\n",
              "      fill: #D2E3FC;\n",
              "    }\n",
              "\n",
              "    [theme=dark] .colab-df-convert:hover {\n",
              "      background-color: #434B5C;\n",
              "      box-shadow: 0px 1px 3px 1px rgba(0, 0, 0, 0.15);\n",
              "      filter: drop-shadow(0px 1px 2px rgba(0, 0, 0, 0.3));\n",
              "      fill: #FFFFFF;\n",
              "    }\n",
              "  </style>\n",
              "\n",
              "      <script>\n",
              "        const buttonEl =\n",
              "          document.querySelector('#df-9dd62951-d0ef-47fc-9e67-580d7848e100 button.colab-df-convert');\n",
              "        buttonEl.style.display =\n",
              "          google.colab.kernel.accessAllowed ? 'block' : 'none';\n",
              "\n",
              "        async function convertToInteractive(key) {\n",
              "          const element = document.querySelector('#df-9dd62951-d0ef-47fc-9e67-580d7848e100');\n",
              "          const dataTable =\n",
              "            await google.colab.kernel.invokeFunction('convertToInteractive',\n",
              "                                                     [key], {});\n",
              "          if (!dataTable) return;\n",
              "\n",
              "          const docLinkHtml = 'Like what you see? Visit the ' +\n",
              "            '<a target=\"_blank\" href=https://colab.research.google.com/notebooks/data_table.ipynb>data table notebook</a>'\n",
              "            + ' to learn more about interactive tables.';\n",
              "          element.innerHTML = '';\n",
              "          dataTable['output_type'] = 'display_data';\n",
              "          await google.colab.output.renderOutput(dataTable, element);\n",
              "          const docLink = document.createElement('div');\n",
              "          docLink.innerHTML = docLinkHtml;\n",
              "          element.appendChild(docLink);\n",
              "        }\n",
              "      </script>\n",
              "    </div>\n",
              "  </div>\n",
              "  "
            ]
          },
          "metadata": {},
          "execution_count": 43
        }
      ]
    },
    {
      "cell_type": "markdown",
      "metadata": {
        "id": "U-PNxpgmgUvh"
      },
      "source": [
        "#Genetic Algorithm\n"
      ]
    },
    {
      "cell_type": "code",
      "metadata": {
        "colab": {
          "base_uri": "https://localhost:8080/"
        },
        "id": "HFwKbIJo27ud",
        "outputId": "f59e60ce-7ccc-4d12-eefb-2c874f8fffb4"
      },
      "source": [
        "!pip install geneticalgorithm"
      ],
      "execution_count": null,
      "outputs": [
        {
          "output_type": "stream",
          "name": "stdout",
          "text": [
            "Collecting geneticalgorithm\n",
            "  Downloading geneticalgorithm-1.0.2-py3-none-any.whl (16 kB)\n",
            "Requirement already satisfied: numpy in /usr/local/lib/python3.7/dist-packages (from geneticalgorithm) (1.21.6)\n",
            "Collecting func-timeout\n",
            "  Downloading func_timeout-4.3.5.tar.gz (44 kB)\n",
            "\u001b[?25l\r\u001b[K     |███████▍                        | 10 kB 27.3 MB/s eta 0:00:01\r\u001b[K     |██████████████▉                 | 20 kB 24.2 MB/s eta 0:00:01\r\u001b[K     |██████████████████████▏         | 30 kB 18.6 MB/s eta 0:00:01\r\u001b[K     |█████████████████████████████▋  | 40 kB 16.0 MB/s eta 0:00:01\r\u001b[K     |████████████████████████████████| 44 kB 1.5 MB/s \n",
            "\u001b[?25hBuilding wheels for collected packages: func-timeout\n",
            "  Building wheel for func-timeout (setup.py) ... \u001b[?25l\u001b[?25hdone\n",
            "  Created wheel for func-timeout: filename=func_timeout-4.3.5-py3-none-any.whl size=15098 sha256=c48e1f46e45b23792e8fe64003b1b5e007a1d59a30b1b1c6b85565005a1a465d\n",
            "  Stored in directory: /root/.cache/pip/wheels/68/b5/a5/67c4364c354e141f5a1bd3ec568126f77877ab7554cf5af8cb\n",
            "Successfully built func-timeout\n",
            "Installing collected packages: func-timeout, geneticalgorithm\n",
            "Successfully installed func-timeout-4.3.5 geneticalgorithm-1.0.2\n"
          ]
        }
      ]
    },
    {
      "cell_type": "code",
      "metadata": {
        "colab": {
          "base_uri": "https://localhost:8080/",
          "height": 470
        },
        "id": "9qJ9kAbF3GiB",
        "outputId": "dec3e132-b8b1-4667-a30a-476535a05d67"
      },
      "source": [
        "!pip install deap\n",
        "!pip install scoop"
      ],
      "execution_count": null,
      "outputs": [
        {
          "output_type": "stream",
          "name": "stdout",
          "text": [
            "Collecting deap\n",
            "  Downloading deap-1.3.1-cp37-cp37m-manylinux_2_5_x86_64.manylinux1_x86_64.manylinux_2_12_x86_64.manylinux2010_x86_64.whl (160 kB)\n",
            "\u001b[?25l\r\u001b[K     |██                              | 10 kB 18.8 MB/s eta 0:00:01\r\u001b[K     |████                            | 20 kB 26.0 MB/s eta 0:00:01\r\u001b[K     |██████                          | 30 kB 10.0 MB/s eta 0:00:01\r\u001b[K     |████████▏                       | 40 kB 12.2 MB/s eta 0:00:01\r\u001b[K     |██████████▏                     | 51 kB 5.9 MB/s eta 0:00:01\r\u001b[K     |████████████▏                   | 61 kB 6.8 MB/s eta 0:00:01\r\u001b[K     |██████████████▎                 | 71 kB 7.0 MB/s eta 0:00:01\r\u001b[K     |████████████████▎               | 81 kB 7.7 MB/s eta 0:00:01\r\u001b[K     |██████████████████▎             | 92 kB 8.5 MB/s eta 0:00:01\r\u001b[K     |████████████████████▍           | 102 kB 7.9 MB/s eta 0:00:01\r\u001b[K     |██████████████████████▍         | 112 kB 7.9 MB/s eta 0:00:01\r\u001b[K     |████████████████████████▍       | 122 kB 7.9 MB/s eta 0:00:01\r\u001b[K     |██████████████████████████▌     | 133 kB 7.9 MB/s eta 0:00:01\r\u001b[K     |████████████████████████████▌   | 143 kB 7.9 MB/s eta 0:00:01\r\u001b[K     |██████████████████████████████▌ | 153 kB 7.9 MB/s eta 0:00:01\r\u001b[K     |████████████████████████████████| 160 kB 7.9 MB/s \n",
            "\u001b[?25hRequirement already satisfied: numpy in /usr/local/lib/python3.7/dist-packages (from deap) (1.21.6)\n",
            "Installing collected packages: deap\n",
            "Successfully installed deap-1.3.1\n",
            "Collecting scoop\n",
            "  Downloading scoop-0.7.1.1.tar.gz (603 kB)\n",
            "\u001b[K     |████████████████████████████████| 603 kB 7.0 MB/s \n",
            "\u001b[?25hRequirement already satisfied: greenlet>=0.3.4 in /usr/local/lib/python3.7/dist-packages (from scoop) (1.1.2)\n",
            "Requirement already satisfied: pyzmq>=13.1.0 in /usr/local/lib/python3.7/dist-packages (from scoop) (22.3.0)\n",
            "Collecting argparse>=1.1\n",
            "  Downloading argparse-1.4.0-py2.py3-none-any.whl (23 kB)\n",
            "Building wheels for collected packages: scoop\n",
            "  Building wheel for scoop (setup.py) ... \u001b[?25l\u001b[?25hdone\n",
            "  Created wheel for scoop: filename=scoop-0.7.1.1-py3-none-any.whl size=72141 sha256=d292be556a33deb5c253b0916efbbf2aa77221866127690003003079ab0b8a33\n",
            "  Stored in directory: /root/.cache/pip/wheels/24/19/e9/6e3e7c0323cc36bf1e4993d69b2db27d6b4e806ed57d411f44\n",
            "Successfully built scoop\n",
            "Installing collected packages: argparse, scoop\n",
            "Successfully installed argparse-1.4.0 scoop-0.7.1.1\n"
          ]
        },
        {
          "output_type": "display_data",
          "data": {
            "application/vnd.colab-display-data+json": {
              "pip_warning": {
                "packages": [
                  "argparse"
                ]
              }
            }
          },
          "metadata": {}
        }
      ]
    },
    {
      "cell_type": "code",
      "metadata": {
        "colab": {
          "base_uri": "https://localhost:8080/"
        },
        "id": "_iG3rxGU0F1J",
        "outputId": "f2c842b6-6ff2-46ad-c984-c6a04c3a12ec"
      },
      "source": [
        "import pandas as pd\n",
        "from sklearn.preprocessing import LabelEncoder\n",
        "from sklearn.model_selection import train_test_split\n",
        "from sklearn.linear_model import LogisticRegression\n",
        "from sklearn.metrics import accuracy_score\n",
        "from deap import creator, base, tools, algorithms\n",
        "from scoop import futures\n",
        "import random\n",
        "import numpy\n",
        "from scipy import interpolate\n",
        "import matplotlib.pyplot as plt\n",
        "import warnings\n",
        "warnings.filterwarnings(\"ignore\")\n",
        "\n",
        "# Read in data from CSV\n",
        "\n",
        "dfData = pd.read_csv('/content/dataset.csv')\n",
        "\n",
        "# Encode the classification labels to numbers\n",
        "# Get classes and one hot encoded feature vectors\n",
        "le = LabelEncoder()\n",
        "le.fit(dfData['Result'])\n",
        "allClasses = le.transform(dfData['Result'])\n",
        "allFeatures = dfData.drop(['Result'], axis=1)\n",
        "\n",
        "# Form training, test, and validation sets\n",
        "X_trainAndTest, X_validation, y_trainAndTest, y_validation = train_test_split(allFeatures, allClasses, test_size=0.20, random_state=42)\n",
        "X_gen_train, X_gen_test, y_gen_train, y_gen_test = train_test_split(X_trainAndTest, y_trainAndTest, test_size=0.20, random_state=42)\n",
        "\n",
        "# Feature subset fitness function\n",
        "def getFitness(individual, X_gen_train, X_gen_test, y_gen_train, y_gen_test):\n",
        "\n",
        "\t# Parse our feature columns that we don't use\n",
        "\t# Apply one hot encoding to the features\n",
        "\tcols = [index for index in range(len(individual)) if individual[index] == 0]\n",
        "\tX_trainParsed = X_gen_train.drop(X_gen_train.columns[cols], axis=1)\n",
        "\tX_trainOhFeatures = pd.get_dummies(X_trainParsed)\n",
        "\tX_testParsed = X_gen_test.drop(X_gen_test.columns[cols], axis=1)\n",
        "\tX_testOhFeatures = pd.get_dummies(X_testParsed)\n",
        "\n",
        "\t# Remove any columns that aren't in both the training and test sets\n",
        "\tsharedFeatures = set(X_trainOhFeatures.columns) & set(X_testOhFeatures.columns)\n",
        "\tremoveFromTrain = set(X_trainOhFeatures.columns) - sharedFeatures\n",
        "\tremoveFromTest = set(X_testOhFeatures.columns) - sharedFeatures\n",
        "\tX_trainOhFeatures = X_trainOhFeatures.drop(list(removeFromTrain), axis=1)\n",
        "\tX_testOhFeatures = X_testOhFeatures.drop(list(removeFromTest), axis=1)\n",
        "\n",
        "\t# Apply logistic regression on the data, and calculate accuracy\n",
        "\tclf = LogisticRegression()\n",
        "\tclf.fit(X_trainOhFeatures, y_gen_train)\n",
        "\tpredictions = clf.predict(X_testOhFeatures)\n",
        "\taccuracy = accuracy_score(y_gen_test, predictions)\n",
        "\n",
        "\t# Return calculated accuracy as fitness\n",
        "\treturn (accuracy,)\n",
        "\n",
        "#========DEAP GLOBAL VARIABLES (viewable by SCOOP)========\n",
        "\n",
        "# Create Individual\n",
        "creator.create(\"FitnessMax\", base.Fitness, weights=(1.0,))\n",
        "creator.create(\"Individual\", list, fitness=creator.FitnessMax)\n",
        "\n",
        "# Create Toolbox\n",
        "toolbox = base.Toolbox()\n",
        "toolbox.register(\"attr_bool\", random.randint, 0, 1)\n",
        "toolbox.register(\"individual\", tools.initRepeat, creator.Individual, toolbox.attr_bool, len(dfData.columns) - 1)\n",
        "toolbox.register(\"population\", tools.initRepeat, list, toolbox.individual)\n",
        "\n",
        "# Continue filling toolbox...\n",
        "toolbox.register(\"evaluate\", getFitness, X_gen_train=X_gen_train, X_gen_test=X_gen_test, y_gen_train=y_gen_train, y_gen_test=y_gen_test)\n",
        "toolbox.register(\"mate\", tools.cxOnePoint)\n",
        "toolbox.register(\"mutate\", tools.mutFlipBit, indpb=0.05)\n",
        "toolbox.register(\"select\", tools.selTournament, tournsize=3)\n",
        "\n",
        "#========\n",
        "\n",
        "def getHof():\n",
        "\n",
        "\t# Initialize variables to use eaSimple\n",
        "\tnumPop = 100\n",
        "\tnumGen = 10\n",
        "\tpop = toolbox.population(n=numPop)\n",
        "\thof = tools.HallOfFame(numPop * numGen)\n",
        "\tstats = tools.Statistics(lambda ind: ind.fitness.values)\n",
        "\tstats.register(\"avg\", numpy.mean)\n",
        "\tstats.register(\"std\", numpy.std)\n",
        "\tstats.register(\"min\", numpy.min)\n",
        "\tstats.register(\"max\", numpy.max)\n",
        "\n",
        "\t# Launch genetic algorithm\n",
        "\tpop, log = algorithms.eaSimple(pop, toolbox, cxpb=0.5, mutpb=0.2, ngen=numGen, stats=stats, halloffame=hof, verbose=True)\n",
        "\n",
        "\t# Return the hall of fame\n",
        "\treturn hof\n",
        "\n",
        "def getMetrics(hof):\n",
        "\n",
        "\t# Get list of percentiles in the hall of fame\n",
        "\tpercentileList = [i / (len(hof) - 1) for i in range(len(hof))]\n",
        "\t\n",
        "\t# Gather fitness data from each percentile\n",
        "\ttestAccuracyList = []\n",
        "\tvalidationAccuracyList = []\n",
        "\tindividualList = []\n",
        "\tfor individual in hof:\n",
        "\t\ttestAccuracy = individual.fitness.values\n",
        "\t\tvalidationAccuracy = getFitness(individual, X_trainAndTest, X_validation, y_trainAndTest, y_validation)\n",
        "\t\ttestAccuracyList.append(testAccuracy[0])\n",
        "\t\tvalidationAccuracyList.append(validationAccuracy[0])\n",
        "\t\tindividualList.append(individual)\n",
        "\ttestAccuracyList.reverse()\n",
        "\tvalidationAccuracyList.reverse()\n",
        "\treturn testAccuracyList, validationAccuracyList, individualList, percentileList\n",
        "\n",
        "\n",
        "if __name__ == '__main__':\n",
        "\n",
        "\t'''\n",
        "\tFirst, we will apply logistic regression using all the features to acquire a baseline accuracy.\n",
        "\t'''\n",
        "\tindividual = [1 for i in range(len(allFeatures.columns))]\n",
        "\ttestAccuracy = getFitness(individual, X_gen_train, X_gen_test, y_gen_train, y_gen_test)\n",
        "\tvalidationAccuracy = getFitness(individual, X_trainAndTest, X_validation, y_trainAndTest, y_validation)\n",
        "\tprint('\\nTest accuracy with all features: \\t' + str(testAccuracy[0]))\n",
        "\tprint('Validation accuracy with all features: \\t' + str(validationAccuracy[0]) + '\\n')\n",
        "\n",
        "\t'''\n",
        "\tNow, we will apply a genetic algorithm to choose a subset of features that gives a better accuracy than the baseline.\n",
        "\t'''\n",
        "\thof = getHof()\n",
        "\ttestAccuracyList, validationAccuracyList, individualList, percentileList = getMetrics(hof)\n",
        "\n",
        "\t# Get a list of subsets that performed best on validation data\n",
        "\tmaxValAccSubsetIndicies = [index for index in range(len(validationAccuracyList)) if validationAccuracyList[index] == max(validationAccuracyList)]\n",
        "\tmaxValIndividuals = [individualList[index] for index in maxValAccSubsetIndicies]\n",
        "\tmaxValSubsets = [[list(allFeatures)[index] for index in range(len(individual)) if individual[index] == 1] for individual in maxValIndividuals]\n",
        "\n",
        "\tprint('\\n---Optimal Feature Subset(s)---\\n')\n",
        "\tfor index in range(len(maxValAccSubsetIndicies)):\n",
        "\t\tprint('Percentile: \\t\\t\\t' + str(percentileList[maxValAccSubsetIndicies[index]]))\n",
        "\t\tprint('Validation Accuracy: \\t\\t' + str(validationAccuracyList[maxValAccSubsetIndicies[index]]))\n",
        "\t\tprint('Individual: \\t' + str(maxValIndividuals[index]))\n",
        "\t\tprint('Number Features In Subset: \\t' + str(len(maxValSubsets[index])))\n",
        "\t\tprint('Feature Subset: ' + str(maxValSubsets[index]))\n",
        "\n",
        "\t'''\n",
        "\tNow, we plot the test and validation classification accuracy to see how these numbers change as we move from our worst feature subsets to the \n",
        "\tbest feature subsets found by the genetic algorithm.\n",
        "\t'''\n",
        "\t# Calculate best fit line for validation classification accuracy (non-linear)\n",
        "\ttck = interpolate.splrep(percentileList, validationAccuracyList, s=5.0)\n",
        "\tynew = interpolate.splev(percentileList, tck)"
      ],
      "execution_count": null,
      "outputs": [
        {
          "output_type": "stream",
          "name": "stdout",
          "text": [
            "\n",
            "Test accuracy with all features: \t0.9123798756359525\n",
            "Validation accuracy with all features: \t0.9176843057440073\n",
            "\n",
            "gen\tnevals\tavg     \tstd      \tmin     \tmax     \n",
            "0  \t100   \t0.842007\t0.0689112\t0.652346\t0.909553\n",
            "1  \t68    \t0.884274\t0.0325088\t0.742227\t0.915772\n",
            "2  \t58    \t0.901334\t0.0127737\t0.852459\t0.915772\n",
            "3  \t48    \t0.909129\t0.00697917\t0.859243\t0.921425\n",
            "4  \t72    \t0.912278\t0.00363406\t0.903901\t0.921425\n",
            "5  \t58    \t0.914805\t0.00461486\t0.881854\t0.92199 \n",
            "6  \t56    \t0.917236\t0.00285916\t0.909553\t0.92199 \n",
            "7  \t67    \t0.917908\t0.00677905\t0.858112\t0.92199 \n",
            "8  \t52    \t0.919214\t0.00490019\t0.882419\t0.92199 \n",
            "9  \t61    \t0.919915\t0.00592346\t0.876767\t0.92199 \n",
            "10 \t45    \t0.921628\t0.000916818\t0.915206\t0.92199 \n",
            "\n",
            "---Optimal Feature Subset(s)---\n",
            "\n",
            "Percentile: \t\t\t0.6541019955654102\n",
            "Validation Accuracy: \t\t0.9280868385345997\n",
            "Individual: \t[0, 0, 0, 0, 0, 0, 0, 0, 1, 1, 0, 1, 0, 1, 1, 1, 0, 0, 1, 1, 1, 0, 0, 0, 0, 0, 0, 1, 0, 1, 1]\n",
            "Number Features In Subset: \t12\n",
            "Feature Subset: ['SSLfinal_State', 'Domain_registeration_length', 'port', 'Request_URL', 'URL_of_Anchor', 'Links_in_tags', 'Abnormal_URL', 'Redirect', 'on_mouseover', 'Page_Rank', 'Links_pointing_to_page', 'Statistical_report']\n"
          ]
        }
      ]
    },
    {
      "cell_type": "code",
      "metadata": {
        "id": "yhPwic8v0HZ5"
      },
      "source": [
        "e = plt.figure(1)\n",
        "plt.plot(percentileList, validationAccuracyList, marker='o', color='r')\n",
        "plt.plot(percentileList, ynew, color='b')\n",
        "plt.title('Validation Set Classification Accuracy vs. \\n Continuum with Cubic-Spline Interpolation')\n",
        "plt.xlabel('Population Ordered By Increasing Test Set Accuracy')\n",
        "plt.ylabel('Validation Set Accuracy')\n",
        "e.show()\n",
        "\n",
        "f = plt.figure(2)\n",
        "plt.scatter(percentileList, validationAccuracyList)\n",
        "plt.title('Validation Set Classification Accuracy vs. Continuum')\n",
        "plt.xlabel('Population Ordered By Increasing Test Set Accuracy')\n",
        "plt.ylabel('Validation Set Accuracy')\n",
        "f.show()\n",
        "\n",
        "g = plt.figure(3)\n",
        "plt.scatter(percentileList, testAccuracyList)\n",
        "plt.title('Test Set Classification Accuracy vs. Continuum')\n",
        "plt.xlabel('Population Ordered By Increasing Test Set Accuracy')\n",
        "plt.ylabel('Test Set Accuracy')\n",
        "g.show()"
      ],
      "execution_count": null,
      "outputs": []
    },
    {
      "cell_type": "code",
      "metadata": {
        "id": "q9eCQM5r5cIy"
      },
      "source": [
        "# Creating holders to store the model performance results\n",
        "ML_gen_Model = []\n",
        "acc_gen_model = []\n",
        "\n",
        "#function to call for storing the results\n",
        "def storeResults(model, a):\n",
        "  ML_gen_Model.append(model)\n",
        "  acc_gen_model.append(round(a, 3))"
      ],
      "execution_count": null,
      "outputs": []
    },
    {
      "cell_type": "markdown",
      "metadata": {
        "id": "vpvcmxkngfeB"
      },
      "source": [
        "#Decision Tree with GA\n"
      ]
    },
    {
      "cell_type": "code",
      "metadata": {
        "id": "-IJuTDT50L-n"
      },
      "source": [
        "tree = DecisionTreeClassifier(max_depth = 5)\n",
        "tree.fit(X_gen_train, y_gen_train)\n",
        "\n",
        "y_test_tree = tree.predict(X_gen_test)\n",
        "y_train_tree = tree.predict(X_gen_train)\n",
        "\n",
        "tree_score=tree.score(X_gen_test, y_gen_test)"
      ],
      "execution_count": null,
      "outputs": []
    },
    {
      "cell_type": "code",
      "metadata": {
        "colab": {
          "base_uri": "https://localhost:8080/"
        },
        "id": "7Q_BPcDo4o8m",
        "outputId": "524dd0ab-e0a1-4f3f-c202-e5c66de047bc"
      },
      "source": [
        "start = time.time()\n",
        "acc_train_tree = accuracy_score(y_gen_train,y_train_tree)\n",
        "acc_test_tree = accuracy_score(y_gen_test,y_test_tree)\n",
        "\n",
        "print(\"Decision Tree: Accuracy on the Model: \",tree_score)\n",
        "print(\"Decision Tree: Accuracy on training Data: {:.3f}\".format(acc_train_tree))\n",
        "print(\"Decision Tree: Accuracy on test Data: {:.3f}\".format(acc_test_tree))\n",
        "print(metrics.classification_report(y_gen_test, y_test_tree))\n",
        "print(metrics.confusion_matrix(y_gen_test, y_test_tree))\n",
        "end = time.time()\n",
        "print(\"Computational Time: \", (end-start))"
      ],
      "execution_count": null,
      "outputs": [
        {
          "output_type": "stream",
          "name": "stdout",
          "text": [
            "Decision Tree: Accuracy on the Model:  0.9225551158846806\n",
            "Decision Tree: Accuracy on training Data: 0.926\n",
            "Decision Tree: Accuracy on test Data: 0.923\n",
            "              precision    recall  f1-score   support\n",
            "\n",
            "           0       0.95      0.87      0.91       810\n",
            "           1       0.90      0.96      0.93       959\n",
            "\n",
            "    accuracy                           0.92      1769\n",
            "   macro avg       0.93      0.92      0.92      1769\n",
            "weighted avg       0.92      0.92      0.92      1769\n",
            "\n",
            "[[707 103]\n",
            " [ 34 925]]\n",
            "Computational Time:  0.06073427200317383\n"
          ]
        }
      ]
    },
    {
      "cell_type": "code",
      "metadata": {
        "id": "QknffpMG5yZf"
      },
      "source": [
        "storeResults('Decision Tree:', tree_score)"
      ],
      "execution_count": null,
      "outputs": []
    },
    {
      "cell_type": "markdown",
      "metadata": {
        "id": "gJEHA9fBgjpg"
      },
      "source": [
        "#Naive Bayes with GA\n"
      ]
    },
    {
      "cell_type": "code",
      "metadata": {
        "colab": {
          "base_uri": "https://localhost:8080/"
        },
        "id": "IC0Nu4IB46ou",
        "outputId": "bcac068c-981a-4bb6-b980-2734acd8df37"
      },
      "source": [
        "model = GaussianNB()\n",
        "model.fit(X_gen_train, y_gen_train)"
      ],
      "execution_count": null,
      "outputs": [
        {
          "output_type": "execute_result",
          "data": {
            "text/plain": [
              "GaussianNB()"
            ]
          },
          "metadata": {},
          "execution_count": 52
        }
      ]
    },
    {
      "cell_type": "code",
      "metadata": {
        "colab": {
          "base_uri": "https://localhost:8080/"
        },
        "id": "2LWq8g425Bck",
        "outputId": "b77ef329-b904-4bb3-d7f9-c814f354ecbc"
      },
      "source": [
        "start = time.time()\n",
        "score = model.score(X_gen_test, y_gen_test)\n",
        "y_test_mod = model.predict(X_gen_test)\n",
        "y_train_mod = model.predict(X_gen_train)\n",
        "acc_train_mod = accuracy_score(y_gen_train,y_train_mod)\n",
        "acc_test_mod = accuracy_score(y_gen_test,y_test_mod)\n",
        "print(\"Accuracy on model\",score)\n",
        "print(\"Naive bayes: Accuracy on training Data: {:.3f}\".format(acc_train_mod))\n",
        "print(\"Naive bayes: Accuracy on test Data: {:.3f}\".format(acc_test_mod))\n",
        "print(metrics.classification_report(y_gen_test, y_test_mod))\n",
        "print(metrics.confusion_matrix(y_gen_test, y_test_mod))\n",
        "end = time.time()\n",
        "print(\"Computational Time: \", (end-start))"
      ],
      "execution_count": null,
      "outputs": [
        {
          "output_type": "stream",
          "name": "stdout",
          "text": [
            "Accuracy on model 0.8812888637648388\n",
            "Naive bayes: Accuracy on training Data: 0.886\n",
            "Naive bayes: Accuracy on test Data: 0.881\n",
            "              precision    recall  f1-score   support\n",
            "\n",
            "           0       0.83      0.94      0.88       810\n",
            "           1       0.94      0.83      0.88       959\n",
            "\n",
            "    accuracy                           0.88      1769\n",
            "   macro avg       0.88      0.89      0.88      1769\n",
            "weighted avg       0.89      0.88      0.88      1769\n",
            "\n",
            "[[760  50]\n",
            " [160 799]]\n",
            "Computational Time:  0.11300921440124512\n"
          ]
        }
      ]
    },
    {
      "cell_type": "code",
      "metadata": {
        "id": "ARc-lIT_6S3S"
      },
      "source": [
        "storeResults('Naive Bayes:', score)"
      ],
      "execution_count": null,
      "outputs": []
    },
    {
      "cell_type": "markdown",
      "metadata": {
        "id": "SfECbc6_gpGb"
      },
      "source": [
        "#Random Forest with GA\n",
        "\n"
      ]
    },
    {
      "cell_type": "code",
      "metadata": {
        "id": "sLZyYw3A5Dt_"
      },
      "source": [
        "forest = RandomForestClassifier(max_depth=5)\n",
        "forest.fit(X_gen_train, y_gen_train)\n",
        "\n",
        "y_test_forest = forest.predict(X_gen_test)\n",
        "y_train_forest = forest.predict(X_gen_train)\n",
        "model_score=forest.score(X_gen_test, y_gen_test)"
      ],
      "execution_count": null,
      "outputs": []
    },
    {
      "cell_type": "code",
      "metadata": {
        "colab": {
          "base_uri": "https://localhost:8080/"
        },
        "id": "pN8PdDcS5Nk7",
        "outputId": "b58ce3f6-cbf0-4160-fc99-8b9e75201de3"
      },
      "source": [
        "start = time.time()\n",
        "acc_train_forest = accuracy_score(y_gen_train,y_train_forest)\n",
        "acc_test_forest = accuracy_score(y_gen_test,y_test_forest)\n",
        "\n",
        "print(\"Random forest: Accuracy on the Model: \",model_score)\n",
        "print(\"Random forest: Accuracy on training Data: {:.3f}\".format(acc_train_forest))\n",
        "print(\"Random forest: Accuracy on test Data: {:.3f}\".format(acc_test_forest))\n",
        "print(metrics.classification_report(y_gen_test, y_test_forest))\n",
        "print(metrics.confusion_matrix(y_gen_test, y_test_forest))\n",
        "end = time.time()\n",
        "print(\"Computational Time: \", (end-start))"
      ],
      "execution_count": null,
      "outputs": [
        {
          "output_type": "stream",
          "name": "stdout",
          "text": [
            "Random forest: Accuracy on the Model:  0.9310344827586207\n",
            "Random forest: Accuracy on training Data: 0.933\n",
            "Random forest: Accuracy on test Data: 0.931\n",
            "              precision    recall  f1-score   support\n",
            "\n",
            "           0       0.95      0.90      0.92       810\n",
            "           1       0.92      0.96      0.94       959\n",
            "\n",
            "    accuracy                           0.93      1769\n",
            "   macro avg       0.93      0.93      0.93      1769\n",
            "weighted avg       0.93      0.93      0.93      1769\n",
            "\n",
            "[[725  85]\n",
            " [ 37 922]]\n",
            "Computational Time:  0.020509719848632812\n"
          ]
        }
      ]
    },
    {
      "cell_type": "code",
      "metadata": {
        "id": "shKv4Er-6cTs"
      },
      "source": [
        "storeResults('Random Forest:', model_score)"
      ],
      "execution_count": null,
      "outputs": []
    },
    {
      "cell_type": "markdown",
      "metadata": {
        "id": "a47kL5BdgwMH"
      },
      "source": [
        "#ANN with GA"
      ]
    },
    {
      "cell_type": "code",
      "metadata": {
        "colab": {
          "base_uri": "https://localhost:8080/"
        },
        "id": "uTc0qXmLfsdU",
        "outputId": "7acfa49b-d196-4ad4-b44c-0f5b3894f81b"
      },
      "source": [
        "#building autoencoder model\n",
        "\n",
        "input_dim = X_gen_train.shape[1]\n",
        "encoding_dim = input_dim\n",
        "\n",
        "input_layer = Input(shape=(input_dim, ))\n",
        "encoder = Dense(encoding_dim, activation=\"relu\",\n",
        "                activity_regularizer=regularizers.l1(10e-4))(input_layer)\n",
        "encoder = Dense(int(encoding_dim), activation=\"relu\")(encoder)\n",
        "\n",
        "encoder = Dense(int(encoding_dim-2), activation=\"relu\")(encoder)\n",
        "code = Dense(int(encoding_dim-4), activation='relu')(encoder)\n",
        "decoder = Dense(int(encoding_dim-2), activation='relu')(code)\n",
        "\n",
        "decoder = Dense(int(encoding_dim), activation='relu')(encoder)\n",
        "decoder = Dense(input_dim, activation='relu')(decoder)\n",
        "autoencoder = Model(inputs=input_layer, outputs=decoder)\n",
        "autoencoder.summary()"
      ],
      "execution_count": null,
      "outputs": [
        {
          "output_type": "stream",
          "name": "stdout",
          "text": [
            "Model: \"model_1\"\n",
            "_________________________________________________________________\n",
            " Layer (type)                Output Shape              Param #   \n",
            "=================================================================\n",
            " input_2 (InputLayer)        [(None, 31)]              0         \n",
            "                                                                 \n",
            " dense_13 (Dense)            (None, 31)                992       \n",
            "                                                                 \n",
            " dense_14 (Dense)            (None, 31)                992       \n",
            "                                                                 \n",
            " dense_15 (Dense)            (None, 29)                928       \n",
            "                                                                 \n",
            " dense_18 (Dense)            (None, 31)                930       \n",
            "                                                                 \n",
            " dense_19 (Dense)            (None, 31)                992       \n",
            "                                                                 \n",
            "=================================================================\n",
            "Total params: 4,834\n",
            "Trainable params: 4,834\n",
            "Non-trainable params: 0\n",
            "_________________________________________________________________\n"
          ]
        }
      ]
    },
    {
      "cell_type": "code",
      "metadata": {
        "id": "16AIgDbEfwHn"
      },
      "source": [
        "model_new=Sequential()\n",
        "model_new.add(Dense(30,activation='relu'))\n",
        "model_new.add(Dense(18,activation='relu'))\n",
        "model_new.add(Dense(7,activation='relu'))\n",
        "model_new.add(Dense(1,activation='sigmoid'))\n",
        "model_new.compile(loss='binary_crossentropy',optimizer=Adam(lr=0.0001),metrics=['accuracy'])"
      ],
      "execution_count": null,
      "outputs": []
    },
    {
      "cell_type": "code",
      "metadata": {
        "id": "aUrYZGNsf1X9"
      },
      "source": [
        "model_new.fit(X_gen_train,y_gen_train,epochs=50)"
      ],
      "execution_count": null,
      "outputs": []
    },
    {
      "cell_type": "code",
      "metadata": {
        "colab": {
          "base_uri": "https://localhost:8080/"
        },
        "id": "M1HjwEAef3mA",
        "outputId": "160ce44a-2eab-4b3d-9572-66fb824c2b1a"
      },
      "source": [
        "model_new.summary()"
      ],
      "execution_count": null,
      "outputs": [
        {
          "output_type": "stream",
          "name": "stdout",
          "text": [
            "Model: \"sequential_2\"\n",
            "_________________________________________________________________\n",
            " Layer (type)                Output Shape              Param #   \n",
            "=================================================================\n",
            " dense_20 (Dense)            (None, 30)                960       \n",
            "                                                                 \n",
            " dense_21 (Dense)            (None, 18)                558       \n",
            "                                                                 \n",
            " dense_22 (Dense)            (None, 7)                 133       \n",
            "                                                                 \n",
            " dense_23 (Dense)            (None, 1)                 8         \n",
            "                                                                 \n",
            "=================================================================\n",
            "Total params: 1,659\n",
            "Trainable params: 1,659\n",
            "Non-trainable params: 0\n",
            "_________________________________________________________________\n"
          ]
        }
      ]
    },
    {
      "cell_type": "code",
      "metadata": {
        "colab": {
          "base_uri": "https://localhost:8080/"
        },
        "id": "_T9wdXgIf4N3",
        "outputId": "17c9b726-db77-4ffa-f05e-2aa7ec26fb38"
      },
      "source": [
        "pr=model_new.predict(X_gen_test)\n",
        "accuracy_new=accuracy_score(y_gen_test,np.round(abs(pr)))\n",
        "print('The accuracy of ANN with GA Based Feature Selection is:', accuracy_new)\n",
        "print(metrics.classification_report(y_gen_test,np.round(abs(pr))))"
      ],
      "execution_count": null,
      "outputs": [
        {
          "output_type": "stream",
          "name": "stdout",
          "text": [
            "The accuracy of ANN with GA Based Feature Selection is: 0.8733747880158281\n",
            "              precision    recall  f1-score   support\n",
            "\n",
            "           0       0.95      0.77      0.85       810\n",
            "           1       0.83      0.96      0.89       959\n",
            "\n",
            "    accuracy                           0.87      1769\n",
            "   macro avg       0.89      0.87      0.87      1769\n",
            "weighted avg       0.88      0.87      0.87      1769\n",
            "\n"
          ]
        }
      ]
    },
    {
      "cell_type": "code",
      "metadata": {
        "id": "jTB8sJnNjPsm"
      },
      "source": [
        "storeResults('ANN',accuracy_new)"
      ],
      "execution_count": null,
      "outputs": []
    },
    {
      "cell_type": "markdown",
      "metadata": {
        "id": "UTjrHfD1ibVw"
      },
      "source": [
        "#CNN with GA"
      ]
    },
    {
      "cell_type": "markdown",
      "source": [
        "# New Section"
      ],
      "metadata": {
        "id": "veXlV95C15vF"
      }
    },
    {
      "cell_type": "code",
      "metadata": {
        "id": "114ouE7qiISy"
      },
      "source": [
        "X_gen_train_new = slr.fit_transform(X_gen_train)\n",
        "X_gen_test_new = slr.transform(X_gen_test)\n",
        "Y_gen_train_new = np.array(y_gen_train)\n",
        "Y_gen_test_new = np.array(y_gen_test)"
      ],
      "execution_count": null,
      "outputs": []
    },
    {
      "cell_type": "code",
      "metadata": {
        "id": "eSML7Y1YiNKs"
      },
      "source": [
        "X_gen_train_new = X_gen_train.values.reshape(X_gen_train.shape[0], X_gen_train.shape[1], 1)\n",
        "X_gen_test_new = X_gen_test.values.reshape(X_gen_test.shape[0], X_gen_test.shape[1], 1) "
      ],
      "execution_count": null,
      "outputs": []
    },
    {
      "cell_type": "code",
      "metadata": {
        "id": "C6CGAmPkiRJM"
      },
      "source": [
        "epochs = 20\n",
        "cnn_model = Sequential()\n",
        "cnn_model.add(Conv1D(32, 2, activation='relu', input_shape = X_gen_train_new[0].shape))\n",
        "cnn_model.add(BatchNormalization())\n",
        "cnn_model.add(Dropout(0.2))\n",
        "\n",
        "cnn_model.add(Conv1D(64, 2, activation='relu'))\n",
        "cnn_model.add(BatchNormalization())\n",
        "cnn_model.add(Dropout(0.5))\n",
        "\n",
        "cnn_model.add(Flatten())\n",
        "cnn_model.add(Dense(64, activation='relu'))\n",
        "cnn_model.add(Dropout(0.5))\n",
        "\n",
        "cnn_model.add(Dense(1, activation='sigmoid'))"
      ],
      "execution_count": null,
      "outputs": []
    },
    {
      "cell_type": "code",
      "metadata": {
        "colab": {
          "base_uri": "https://localhost:8080/"
        },
        "id": "jmWZ0mcRiS48",
        "outputId": "eca3816a-b6bd-4c1b-c075-252514b1f7c0"
      },
      "source": [
        "cnn_model.summary()"
      ],
      "execution_count": null,
      "outputs": [
        {
          "output_type": "stream",
          "name": "stdout",
          "text": [
            "Model: \"sequential_3\"\n",
            "_________________________________________________________________\n",
            " Layer (type)                Output Shape              Param #   \n",
            "=================================================================\n",
            " conv1d_2 (Conv1D)           (None, 30, 32)            96        \n",
            "                                                                 \n",
            " batch_normalization_2 (Batc  (None, 30, 32)           128       \n",
            " hNormalization)                                                 \n",
            "                                                                 \n",
            " dropout_3 (Dropout)         (None, 30, 32)            0         \n",
            "                                                                 \n",
            " conv1d_3 (Conv1D)           (None, 29, 64)            4160      \n",
            "                                                                 \n",
            " batch_normalization_3 (Batc  (None, 29, 64)           256       \n",
            " hNormalization)                                                 \n",
            "                                                                 \n",
            " dropout_4 (Dropout)         (None, 29, 64)            0         \n",
            "                                                                 \n",
            " flatten_1 (Flatten)         (None, 1856)              0         \n",
            "                                                                 \n",
            " dense_24 (Dense)            (None, 64)                118848    \n",
            "                                                                 \n",
            " dropout_5 (Dropout)         (None, 64)                0         \n",
            "                                                                 \n",
            " dense_25 (Dense)            (None, 1)                 65        \n",
            "                                                                 \n",
            "=================================================================\n",
            "Total params: 123,553\n",
            "Trainable params: 123,361\n",
            "Non-trainable params: 192\n",
            "_________________________________________________________________\n"
          ]
        }
      ]
    },
    {
      "cell_type": "code",
      "metadata": {
        "id": "_7u54haQiUJN"
      },
      "source": [
        "cnn_model.compile(optimizer=Adam(lr=0.0001), loss = 'binary_crossentropy', metrics=['accuracy'])"
      ],
      "execution_count": null,
      "outputs": []
    },
    {
      "cell_type": "code",
      "metadata": {
        "id": "aH_FeqfhiVnQ"
      },
      "source": [
        "history = cnn_model.fit(X_gen_train_new, Y_gen_train_new, epochs=epochs, validation_data=(X_gen_test_new, Y_gen_test_new), verbose=1)"
      ],
      "execution_count": null,
      "outputs": []
    },
    {
      "cell_type": "code",
      "metadata": {
        "colab": {
          "base_uri": "https://localhost:8080/"
        },
        "id": "YSoacmyPiXfy",
        "outputId": "f7744296-9f19-4cce-ca45-fab7b63a84cc"
      },
      "source": [
        "cnn_pred=cnn_model.predict(X_gen_test_new)\n",
        "cnn_accuracy_new=accuracy_score(Y_gen_test_new,np.round(abs(cnn_pred)))\n",
        "print('The accuracy of CNN with GA based Feature Selection is:', cnn_accuracy_new)\n",
        "print(metrics.classification_report(Y_gen_test_new,np.round(abs(cnn_pred))))"
      ],
      "execution_count": null,
      "outputs": [
        {
          "output_type": "stream",
          "name": "stdout",
          "text": [
            "The accuracy of CNN with GA based Feature Selection is: 0.9400791407574901\n",
            "              precision    recall  f1-score   support\n",
            "\n",
            "           0       0.96      0.90      0.93       810\n",
            "           1       0.92      0.97      0.95       959\n",
            "\n",
            "    accuracy                           0.94      1769\n",
            "   macro avg       0.94      0.94      0.94      1769\n",
            "weighted avg       0.94      0.94      0.94      1769\n",
            "\n"
          ]
        }
      ]
    },
    {
      "cell_type": "code",
      "metadata": {
        "id": "novfEQzzi7cc"
      },
      "source": [
        "storeResults('CNN',cnn_accuracy_new)"
      ],
      "execution_count": null,
      "outputs": []
    },
    {
      "cell_type": "code",
      "metadata": {
        "colab": {
          "base_uri": "https://localhost:8080/",
          "height": 206
        },
        "id": "0_EAWrWD-nH_",
        "outputId": "ecbdd6d8-5d77-4cdd-e1ca-68b914f736fa"
      },
      "source": [
        "results = pd.DataFrame({ 'ML Model': ML_gen_Model,    \n",
        "    'Model Accuracy': acc_gen_model})\n",
        "results"
      ],
      "execution_count": null,
      "outputs": [
        {
          "output_type": "execute_result",
          "data": {
            "text/plain": [
              "         ML Model  Model Accuracy\n",
              "0  Decision Tree:           0.923\n",
              "1    Naive Bayes:           0.881\n",
              "2  Random Forest:           0.931\n",
              "3             ANN           0.873\n",
              "4             CNN           0.940"
            ],
            "text/html": [
              "\n",
              "  <div id=\"df-5e577a69-3974-483a-8c21-1a795ece6058\">\n",
              "    <div class=\"colab-df-container\">\n",
              "      <div>\n",
              "<style scoped>\n",
              "    .dataframe tbody tr th:only-of-type {\n",
              "        vertical-align: middle;\n",
              "    }\n",
              "\n",
              "    .dataframe tbody tr th {\n",
              "        vertical-align: top;\n",
              "    }\n",
              "\n",
              "    .dataframe thead th {\n",
              "        text-align: right;\n",
              "    }\n",
              "</style>\n",
              "<table border=\"1\" class=\"dataframe\">\n",
              "  <thead>\n",
              "    <tr style=\"text-align: right;\">\n",
              "      <th></th>\n",
              "      <th>ML Model</th>\n",
              "      <th>Model Accuracy</th>\n",
              "    </tr>\n",
              "  </thead>\n",
              "  <tbody>\n",
              "    <tr>\n",
              "      <th>0</th>\n",
              "      <td>Decision Tree:</td>\n",
              "      <td>0.923</td>\n",
              "    </tr>\n",
              "    <tr>\n",
              "      <th>1</th>\n",
              "      <td>Naive Bayes:</td>\n",
              "      <td>0.881</td>\n",
              "    </tr>\n",
              "    <tr>\n",
              "      <th>2</th>\n",
              "      <td>Random Forest:</td>\n",
              "      <td>0.931</td>\n",
              "    </tr>\n",
              "    <tr>\n",
              "      <th>3</th>\n",
              "      <td>ANN</td>\n",
              "      <td>0.873</td>\n",
              "    </tr>\n",
              "    <tr>\n",
              "      <th>4</th>\n",
              "      <td>CNN</td>\n",
              "      <td>0.940</td>\n",
              "    </tr>\n",
              "  </tbody>\n",
              "</table>\n",
              "</div>\n",
              "      <button class=\"colab-df-convert\" onclick=\"convertToInteractive('df-5e577a69-3974-483a-8c21-1a795ece6058')\"\n",
              "              title=\"Convert this dataframe to an interactive table.\"\n",
              "              style=\"display:none;\">\n",
              "        \n",
              "  <svg xmlns=\"http://www.w3.org/2000/svg\" height=\"24px\"viewBox=\"0 0 24 24\"\n",
              "       width=\"24px\">\n",
              "    <path d=\"M0 0h24v24H0V0z\" fill=\"none\"/>\n",
              "    <path d=\"M18.56 5.44l.94 2.06.94-2.06 2.06-.94-2.06-.94-.94-2.06-.94 2.06-2.06.94zm-11 1L8.5 8.5l.94-2.06 2.06-.94-2.06-.94L8.5 2.5l-.94 2.06-2.06.94zm10 10l.94 2.06.94-2.06 2.06-.94-2.06-.94-.94-2.06-.94 2.06-2.06.94z\"/><path d=\"M17.41 7.96l-1.37-1.37c-.4-.4-.92-.59-1.43-.59-.52 0-1.04.2-1.43.59L10.3 9.45l-7.72 7.72c-.78.78-.78 2.05 0 2.83L4 21.41c.39.39.9.59 1.41.59.51 0 1.02-.2 1.41-.59l7.78-7.78 2.81-2.81c.8-.78.8-2.07 0-2.86zM5.41 20L4 18.59l7.72-7.72 1.47 1.35L5.41 20z\"/>\n",
              "  </svg>\n",
              "      </button>\n",
              "      \n",
              "  <style>\n",
              "    .colab-df-container {\n",
              "      display:flex;\n",
              "      flex-wrap:wrap;\n",
              "      gap: 12px;\n",
              "    }\n",
              "\n",
              "    .colab-df-convert {\n",
              "      background-color: #E8F0FE;\n",
              "      border: none;\n",
              "      border-radius: 50%;\n",
              "      cursor: pointer;\n",
              "      display: none;\n",
              "      fill: #1967D2;\n",
              "      height: 32px;\n",
              "      padding: 0 0 0 0;\n",
              "      width: 32px;\n",
              "    }\n",
              "\n",
              "    .colab-df-convert:hover {\n",
              "      background-color: #E2EBFA;\n",
              "      box-shadow: 0px 1px 2px rgba(60, 64, 67, 0.3), 0px 1px 3px 1px rgba(60, 64, 67, 0.15);\n",
              "      fill: #174EA6;\n",
              "    }\n",
              "\n",
              "    [theme=dark] .colab-df-convert {\n",
              "      background-color: #3B4455;\n",
              "      fill: #D2E3FC;\n",
              "    }\n",
              "\n",
              "    [theme=dark] .colab-df-convert:hover {\n",
              "      background-color: #434B5C;\n",
              "      box-shadow: 0px 1px 3px 1px rgba(0, 0, 0, 0.15);\n",
              "      filter: drop-shadow(0px 1px 2px rgba(0, 0, 0, 0.3));\n",
              "      fill: #FFFFFF;\n",
              "    }\n",
              "  </style>\n",
              "\n",
              "      <script>\n",
              "        const buttonEl =\n",
              "          document.querySelector('#df-5e577a69-3974-483a-8c21-1a795ece6058 button.colab-df-convert');\n",
              "        buttonEl.style.display =\n",
              "          google.colab.kernel.accessAllowed ? 'block' : 'none';\n",
              "\n",
              "        async function convertToInteractive(key) {\n",
              "          const element = document.querySelector('#df-5e577a69-3974-483a-8c21-1a795ece6058');\n",
              "          const dataTable =\n",
              "            await google.colab.kernel.invokeFunction('convertToInteractive',\n",
              "                                                     [key], {});\n",
              "          if (!dataTable) return;\n",
              "\n",
              "          const docLinkHtml = 'Like what you see? Visit the ' +\n",
              "            '<a target=\"_blank\" href=https://colab.research.google.com/notebooks/data_table.ipynb>data table notebook</a>'\n",
              "            + ' to learn more about interactive tables.';\n",
              "          element.innerHTML = '';\n",
              "          dataTable['output_type'] = 'display_data';\n",
              "          await google.colab.output.renderOutput(dataTable, element);\n",
              "          const docLink = document.createElement('div');\n",
              "          docLink.innerHTML = docLinkHtml;\n",
              "          element.appendChild(docLink);\n",
              "        }\n",
              "      </script>\n",
              "    </div>\n",
              "  </div>\n",
              "  "
            ]
          },
          "metadata": {},
          "execution_count": 72
        }
      ]
    },
    {
      "cell_type": "code",
      "metadata": {
        "colab": {
          "base_uri": "https://localhost:8080/",
          "height": 206
        },
        "id": "rYxDZOZt-zBH",
        "outputId": "6ccf91ce-7f36-4cc2-ad31-29a058734817"
      },
      "source": [
        "results.sort_values(by=['Model Accuracy'], ascending=False)"
      ],
      "execution_count": null,
      "outputs": [
        {
          "output_type": "execute_result",
          "data": {
            "text/plain": [
              "         ML Model  Model Accuracy\n",
              "4             CNN           0.940\n",
              "2  Random Forest:           0.931\n",
              "0  Decision Tree:           0.923\n",
              "1    Naive Bayes:           0.881\n",
              "3             ANN           0.873"
            ],
            "text/html": [
              "\n",
              "  <div id=\"df-922a56cb-7d2b-4728-8e24-374446270c64\">\n",
              "    <div class=\"colab-df-container\">\n",
              "      <div>\n",
              "<style scoped>\n",
              "    .dataframe tbody tr th:only-of-type {\n",
              "        vertical-align: middle;\n",
              "    }\n",
              "\n",
              "    .dataframe tbody tr th {\n",
              "        vertical-align: top;\n",
              "    }\n",
              "\n",
              "    .dataframe thead th {\n",
              "        text-align: right;\n",
              "    }\n",
              "</style>\n",
              "<table border=\"1\" class=\"dataframe\">\n",
              "  <thead>\n",
              "    <tr style=\"text-align: right;\">\n",
              "      <th></th>\n",
              "      <th>ML Model</th>\n",
              "      <th>Model Accuracy</th>\n",
              "    </tr>\n",
              "  </thead>\n",
              "  <tbody>\n",
              "    <tr>\n",
              "      <th>4</th>\n",
              "      <td>CNN</td>\n",
              "      <td>0.940</td>\n",
              "    </tr>\n",
              "    <tr>\n",
              "      <th>2</th>\n",
              "      <td>Random Forest:</td>\n",
              "      <td>0.931</td>\n",
              "    </tr>\n",
              "    <tr>\n",
              "      <th>0</th>\n",
              "      <td>Decision Tree:</td>\n",
              "      <td>0.923</td>\n",
              "    </tr>\n",
              "    <tr>\n",
              "      <th>1</th>\n",
              "      <td>Naive Bayes:</td>\n",
              "      <td>0.881</td>\n",
              "    </tr>\n",
              "    <tr>\n",
              "      <th>3</th>\n",
              "      <td>ANN</td>\n",
              "      <td>0.873</td>\n",
              "    </tr>\n",
              "  </tbody>\n",
              "</table>\n",
              "</div>\n",
              "      <button class=\"colab-df-convert\" onclick=\"convertToInteractive('df-922a56cb-7d2b-4728-8e24-374446270c64')\"\n",
              "              title=\"Convert this dataframe to an interactive table.\"\n",
              "              style=\"display:none;\">\n",
              "        \n",
              "  <svg xmlns=\"http://www.w3.org/2000/svg\" height=\"24px\"viewBox=\"0 0 24 24\"\n",
              "       width=\"24px\">\n",
              "    <path d=\"M0 0h24v24H0V0z\" fill=\"none\"/>\n",
              "    <path d=\"M18.56 5.44l.94 2.06.94-2.06 2.06-.94-2.06-.94-.94-2.06-.94 2.06-2.06.94zm-11 1L8.5 8.5l.94-2.06 2.06-.94-2.06-.94L8.5 2.5l-.94 2.06-2.06.94zm10 10l.94 2.06.94-2.06 2.06-.94-2.06-.94-.94-2.06-.94 2.06-2.06.94z\"/><path d=\"M17.41 7.96l-1.37-1.37c-.4-.4-.92-.59-1.43-.59-.52 0-1.04.2-1.43.59L10.3 9.45l-7.72 7.72c-.78.78-.78 2.05 0 2.83L4 21.41c.39.39.9.59 1.41.59.51 0 1.02-.2 1.41-.59l7.78-7.78 2.81-2.81c.8-.78.8-2.07 0-2.86zM5.41 20L4 18.59l7.72-7.72 1.47 1.35L5.41 20z\"/>\n",
              "  </svg>\n",
              "      </button>\n",
              "      \n",
              "  <style>\n",
              "    .colab-df-container {\n",
              "      display:flex;\n",
              "      flex-wrap:wrap;\n",
              "      gap: 12px;\n",
              "    }\n",
              "\n",
              "    .colab-df-convert {\n",
              "      background-color: #E8F0FE;\n",
              "      border: none;\n",
              "      border-radius: 50%;\n",
              "      cursor: pointer;\n",
              "      display: none;\n",
              "      fill: #1967D2;\n",
              "      height: 32px;\n",
              "      padding: 0 0 0 0;\n",
              "      width: 32px;\n",
              "    }\n",
              "\n",
              "    .colab-df-convert:hover {\n",
              "      background-color: #E2EBFA;\n",
              "      box-shadow: 0px 1px 2px rgba(60, 64, 67, 0.3), 0px 1px 3px 1px rgba(60, 64, 67, 0.15);\n",
              "      fill: #174EA6;\n",
              "    }\n",
              "\n",
              "    [theme=dark] .colab-df-convert {\n",
              "      background-color: #3B4455;\n",
              "      fill: #D2E3FC;\n",
              "    }\n",
              "\n",
              "    [theme=dark] .colab-df-convert:hover {\n",
              "      background-color: #434B5C;\n",
              "      box-shadow: 0px 1px 3px 1px rgba(0, 0, 0, 0.15);\n",
              "      filter: drop-shadow(0px 1px 2px rgba(0, 0, 0, 0.3));\n",
              "      fill: #FFFFFF;\n",
              "    }\n",
              "  </style>\n",
              "\n",
              "      <script>\n",
              "        const buttonEl =\n",
              "          document.querySelector('#df-922a56cb-7d2b-4728-8e24-374446270c64 button.colab-df-convert');\n",
              "        buttonEl.style.display =\n",
              "          google.colab.kernel.accessAllowed ? 'block' : 'none';\n",
              "\n",
              "        async function convertToInteractive(key) {\n",
              "          const element = document.querySelector('#df-922a56cb-7d2b-4728-8e24-374446270c64');\n",
              "          const dataTable =\n",
              "            await google.colab.kernel.invokeFunction('convertToInteractive',\n",
              "                                                     [key], {});\n",
              "          if (!dataTable) return;\n",
              "\n",
              "          const docLinkHtml = 'Like what you see? Visit the ' +\n",
              "            '<a target=\"_blank\" href=https://colab.research.google.com/notebooks/data_table.ipynb>data table notebook</a>'\n",
              "            + ' to learn more about interactive tables.';\n",
              "          element.innerHTML = '';\n",
              "          dataTable['output_type'] = 'display_data';\n",
              "          await google.colab.output.renderOutput(dataTable, element);\n",
              "          const docLink = document.createElement('div');\n",
              "          docLink.innerHTML = docLinkHtml;\n",
              "          element.appendChild(docLink);\n",
              "        }\n",
              "      </script>\n",
              "    </div>\n",
              "  </div>\n",
              "  "
            ]
          },
          "metadata": {},
          "execution_count": 73
        }
      ]
    },
    {
      "cell_type": "code",
      "source": [
        ""
      ],
      "metadata": {
        "id": "ou8KBO2wjTaA"
      },
      "execution_count": null,
      "outputs": []
    }
  ]
}